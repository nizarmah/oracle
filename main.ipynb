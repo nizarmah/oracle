{
 "cells": [
  {
   "cell_type": "markdown",
   "metadata": {},
   "source": [
    "## Importing Libraries"
   ]
  },
  {
   "cell_type": "code",
   "execution_count": 1,
   "metadata": {},
   "outputs": [],
   "source": [
    "import numpy as np\n",
    "import pandas as pd\n",
    "\n",
    "import matplotlib as mpl\n",
    "import matplotlib.pyplot as plt\n",
    "\n",
    "import seaborn as sns\n",
    "\n",
    "from sklearn.datasets import fetch_lfw_people\n",
    "\n",
    "from sklearn.model_selection import train_test_split\n",
    "\n",
    "import tensorflow as tf\n",
    "import tensorflow_datasets as tfds"
   ]
  },
  {
   "cell_type": "markdown",
   "metadata": {},
   "source": [
    "## Tweaking Libraries"
   ]
  },
  {
   "cell_type": "code",
   "execution_count": 2,
   "metadata": {},
   "outputs": [],
   "source": [
    "mpl.rcParams['figure.dpi']= 300"
   ]
  },
  {
   "cell_type": "markdown",
   "metadata": {},
   "source": [
    "## Downloading the Data"
   ]
  },
  {
   "cell_type": "markdown",
   "metadata": {},
   "source": [
    "Before even looking at the data, it is important that we download it in the first place.\n",
    "The library automatically downloads the dataset; therefore, we will just attempt to *fetch* the data using `fetch_lfw_people()`.\n",
    "\n",
    "According to the [`sklearn.datasets.fetch_lfw_people` docs](https://scikit-learn.org/stable/modules/generated/sklearn.datasets.fetch_lfw_people.html), `fetch_lfw_people` can take multiple arguments...\n",
    "\n",
    "We will be using `color`, so we will be setting that attribute to `True`."
   ]
  },
  {
   "cell_type": "code",
   "execution_count": 3,
   "metadata": {},
   "outputs": [],
   "source": [
    "lfw_people = fetch_lfw_people(funneled=True, color=True)"
   ]
  },
  {
   "cell_type": "markdown",
   "metadata": {},
   "source": [
    "According to the *docs*, the *dict* output contains three important *keys* :\n",
    "- *data*\n",
    "- *target*\n",
    "- *target_names*\n",
    "\n",
    "So, we will go ahead and assign our `X` or *data*, our `y` or *target*, and our `names` or *target_names*."
   ]
  },
  {
   "cell_type": "code",
   "execution_count": 4,
   "metadata": {},
   "outputs": [],
   "source": [
    "X = lfw_people['data']\n",
    "y = lfw_people['target']\n",
    "\n",
    "names = lfw_people['target_names']"
   ]
  },
  {
   "cell_type": "markdown",
   "metadata": {},
   "source": [
    "## Converting Data to DataFrame"
   ]
  },
  {
   "cell_type": "markdown",
   "metadata": {},
   "source": [
    "We will be converting the data into a `pandas.DataFrame` in order to ease the plotting and working with the data."
   ]
  },
  {
   "cell_type": "code",
   "execution_count": 5,
   "metadata": {},
   "outputs": [],
   "source": [
    "X = pd.DataFrame(X)\n",
    "y = pd.DataFrame(y, columns=['pid']) # pid is person_id\n",
    "\n",
    "df = y.join(X)"
   ]
  },
  {
   "cell_type": "markdown",
   "metadata": {},
   "source": [
    "Here's a quick look at our `DataFrame`..."
   ]
  },
  {
   "cell_type": "code",
   "execution_count": 6,
   "metadata": {},
   "outputs": [
    {
     "data": {
      "text/html": [
       "<div>\n",
       "<style scoped>\n",
       "    .dataframe tbody tr th:only-of-type {\n",
       "        vertical-align: middle;\n",
       "    }\n",
       "\n",
       "    .dataframe tbody tr th {\n",
       "        vertical-align: top;\n",
       "    }\n",
       "\n",
       "    .dataframe thead th {\n",
       "        text-align: right;\n",
       "    }\n",
       "</style>\n",
       "<table border=\"1\" class=\"dataframe\">\n",
       "  <thead>\n",
       "    <tr style=\"text-align: right;\">\n",
       "      <th></th>\n",
       "      <th>pid</th>\n",
       "      <th>0</th>\n",
       "      <th>1</th>\n",
       "      <th>2</th>\n",
       "      <th>3</th>\n",
       "      <th>4</th>\n",
       "      <th>5</th>\n",
       "      <th>6</th>\n",
       "      <th>7</th>\n",
       "      <th>8</th>\n",
       "      <th>...</th>\n",
       "      <th>8732</th>\n",
       "      <th>8733</th>\n",
       "      <th>8734</th>\n",
       "      <th>8735</th>\n",
       "      <th>8736</th>\n",
       "      <th>8737</th>\n",
       "      <th>8738</th>\n",
       "      <th>8739</th>\n",
       "      <th>8740</th>\n",
       "      <th>8741</th>\n",
       "    </tr>\n",
       "  </thead>\n",
       "  <tbody>\n",
       "    <tr>\n",
       "      <th>0</th>\n",
       "      <td>5360</td>\n",
       "      <td>42.0</td>\n",
       "      <td>31.0</td>\n",
       "      <td>29.0</td>\n",
       "      <td>36.0</td>\n",
       "      <td>27.0</td>\n",
       "      <td>25.0</td>\n",
       "      <td>30.0</td>\n",
       "      <td>19.0</td>\n",
       "      <td>18.0</td>\n",
       "      <td>...</td>\n",
       "      <td>12.0</td>\n",
       "      <td>14.0</td>\n",
       "      <td>13.0</td>\n",
       "      <td>17.0</td>\n",
       "      <td>15.0</td>\n",
       "      <td>14.0</td>\n",
       "      <td>19.0</td>\n",
       "      <td>13.0</td>\n",
       "      <td>12.0</td>\n",
       "      <td>17.0</td>\n",
       "    </tr>\n",
       "    <tr>\n",
       "      <th>1</th>\n",
       "      <td>3434</td>\n",
       "      <td>176.0</td>\n",
       "      <td>164.0</td>\n",
       "      <td>134.0</td>\n",
       "      <td>177.0</td>\n",
       "      <td>168.0</td>\n",
       "      <td>137.0</td>\n",
       "      <td>187.0</td>\n",
       "      <td>178.0</td>\n",
       "      <td>144.0</td>\n",
       "      <td>...</td>\n",
       "      <td>129.0</td>\n",
       "      <td>137.0</td>\n",
       "      <td>143.0</td>\n",
       "      <td>136.0</td>\n",
       "      <td>133.0</td>\n",
       "      <td>140.0</td>\n",
       "      <td>133.0</td>\n",
       "      <td>128.0</td>\n",
       "      <td>135.0</td>\n",
       "      <td>128.0</td>\n",
       "    </tr>\n",
       "    <tr>\n",
       "      <th>2</th>\n",
       "      <td>3807</td>\n",
       "      <td>93.0</td>\n",
       "      <td>71.0</td>\n",
       "      <td>67.0</td>\n",
       "      <td>101.0</td>\n",
       "      <td>75.0</td>\n",
       "      <td>68.0</td>\n",
       "      <td>114.0</td>\n",
       "      <td>80.0</td>\n",
       "      <td>70.0</td>\n",
       "      <td>...</td>\n",
       "      <td>200.0</td>\n",
       "      <td>196.0</td>\n",
       "      <td>195.0</td>\n",
       "      <td>185.0</td>\n",
       "      <td>153.0</td>\n",
       "      <td>147.0</td>\n",
       "      <td>136.0</td>\n",
       "      <td>75.0</td>\n",
       "      <td>65.0</td>\n",
       "      <td>59.0</td>\n",
       "    </tr>\n",
       "    <tr>\n",
       "      <th>3</th>\n",
       "      <td>26</td>\n",
       "      <td>7.0</td>\n",
       "      <td>16.0</td>\n",
       "      <td>11.0</td>\n",
       "      <td>8.0</td>\n",
       "      <td>15.0</td>\n",
       "      <td>11.0</td>\n",
       "      <td>8.0</td>\n",
       "      <td>16.0</td>\n",
       "      <td>11.0</td>\n",
       "      <td>...</td>\n",
       "      <td>77.0</td>\n",
       "      <td>164.0</td>\n",
       "      <td>117.0</td>\n",
       "      <td>73.0</td>\n",
       "      <td>148.0</td>\n",
       "      <td>106.0</td>\n",
       "      <td>65.0</td>\n",
       "      <td>126.0</td>\n",
       "      <td>94.0</td>\n",
       "      <td>57.0</td>\n",
       "    </tr>\n",
       "    <tr>\n",
       "      <th>4</th>\n",
       "      <td>3957</td>\n",
       "      <td>40.0</td>\n",
       "      <td>35.0</td>\n",
       "      <td>22.0</td>\n",
       "      <td>39.0</td>\n",
       "      <td>34.0</td>\n",
       "      <td>21.0</td>\n",
       "      <td>39.0</td>\n",
       "      <td>34.0</td>\n",
       "      <td>21.0</td>\n",
       "      <td>...</td>\n",
       "      <td>7.0</td>\n",
       "      <td>27.0</td>\n",
       "      <td>18.0</td>\n",
       "      <td>6.0</td>\n",
       "      <td>31.0</td>\n",
       "      <td>20.0</td>\n",
       "      <td>8.0</td>\n",
       "      <td>37.0</td>\n",
       "      <td>23.0</td>\n",
       "      <td>8.0</td>\n",
       "    </tr>\n",
       "    <tr>\n",
       "      <th>...</th>\n",
       "      <td>...</td>\n",
       "      <td>...</td>\n",
       "      <td>...</td>\n",
       "      <td>...</td>\n",
       "      <td>...</td>\n",
       "      <td>...</td>\n",
       "      <td>...</td>\n",
       "      <td>...</td>\n",
       "      <td>...</td>\n",
       "      <td>...</td>\n",
       "      <td>...</td>\n",
       "      <td>...</td>\n",
       "      <td>...</td>\n",
       "      <td>...</td>\n",
       "      <td>...</td>\n",
       "      <td>...</td>\n",
       "      <td>...</td>\n",
       "      <td>...</td>\n",
       "      <td>...</td>\n",
       "      <td>...</td>\n",
       "      <td>...</td>\n",
       "    </tr>\n",
       "    <tr>\n",
       "      <th>13228</th>\n",
       "      <td>5252</td>\n",
       "      <td>34.0</td>\n",
       "      <td>32.0</td>\n",
       "      <td>22.0</td>\n",
       "      <td>32.0</td>\n",
       "      <td>29.0</td>\n",
       "      <td>17.0</td>\n",
       "      <td>35.0</td>\n",
       "      <td>29.0</td>\n",
       "      <td>13.0</td>\n",
       "      <td>...</td>\n",
       "      <td>2.0</td>\n",
       "      <td>30.0</td>\n",
       "      <td>22.0</td>\n",
       "      <td>4.0</td>\n",
       "      <td>37.0</td>\n",
       "      <td>26.0</td>\n",
       "      <td>7.0</td>\n",
       "      <td>54.0</td>\n",
       "      <td>39.0</td>\n",
       "      <td>18.0</td>\n",
       "    </tr>\n",
       "    <tr>\n",
       "      <th>13229</th>\n",
       "      <td>2122</td>\n",
       "      <td>129.0</td>\n",
       "      <td>121.0</td>\n",
       "      <td>82.0</td>\n",
       "      <td>137.0</td>\n",
       "      <td>126.0</td>\n",
       "      <td>84.0</td>\n",
       "      <td>156.0</td>\n",
       "      <td>145.0</td>\n",
       "      <td>99.0</td>\n",
       "      <td>...</td>\n",
       "      <td>83.0</td>\n",
       "      <td>76.0</td>\n",
       "      <td>106.0</td>\n",
       "      <td>96.0</td>\n",
       "      <td>93.0</td>\n",
       "      <td>65.0</td>\n",
       "      <td>56.0</td>\n",
       "      <td>106.0</td>\n",
       "      <td>18.0</td>\n",
       "      <td>15.0</td>\n",
       "    </tr>\n",
       "    <tr>\n",
       "      <th>13230</th>\n",
       "      <td>2175</td>\n",
       "      <td>25.0</td>\n",
       "      <td>39.0</td>\n",
       "      <td>50.0</td>\n",
       "      <td>37.0</td>\n",
       "      <td>39.0</td>\n",
       "      <td>49.0</td>\n",
       "      <td>59.0</td>\n",
       "      <td>52.0</td>\n",
       "      <td>55.0</td>\n",
       "      <td>...</td>\n",
       "      <td>76.0</td>\n",
       "      <td>54.0</td>\n",
       "      <td>66.0</td>\n",
       "      <td>78.0</td>\n",
       "      <td>53.0</td>\n",
       "      <td>63.0</td>\n",
       "      <td>75.0</td>\n",
       "      <td>42.0</td>\n",
       "      <td>54.0</td>\n",
       "      <td>67.0</td>\n",
       "    </tr>\n",
       "    <tr>\n",
       "      <th>13231</th>\n",
       "      <td>373</td>\n",
       "      <td>11.0</td>\n",
       "      <td>15.0</td>\n",
       "      <td>24.0</td>\n",
       "      <td>18.0</td>\n",
       "      <td>22.0</td>\n",
       "      <td>33.0</td>\n",
       "      <td>54.0</td>\n",
       "      <td>58.0</td>\n",
       "      <td>69.0</td>\n",
       "      <td>...</td>\n",
       "      <td>252.0</td>\n",
       "      <td>208.0</td>\n",
       "      <td>219.0</td>\n",
       "      <td>230.0</td>\n",
       "      <td>131.0</td>\n",
       "      <td>143.0</td>\n",
       "      <td>156.0</td>\n",
       "      <td>57.0</td>\n",
       "      <td>68.0</td>\n",
       "      <td>83.0</td>\n",
       "    </tr>\n",
       "    <tr>\n",
       "      <th>13232</th>\n",
       "      <td>2941</td>\n",
       "      <td>69.0</td>\n",
       "      <td>57.0</td>\n",
       "      <td>49.0</td>\n",
       "      <td>57.0</td>\n",
       "      <td>47.0</td>\n",
       "      <td>40.0</td>\n",
       "      <td>31.0</td>\n",
       "      <td>18.0</td>\n",
       "      <td>11.0</td>\n",
       "      <td>...</td>\n",
       "      <td>72.0</td>\n",
       "      <td>166.0</td>\n",
       "      <td>108.0</td>\n",
       "      <td>74.0</td>\n",
       "      <td>144.0</td>\n",
       "      <td>104.0</td>\n",
       "      <td>71.0</td>\n",
       "      <td>171.0</td>\n",
       "      <td>146.0</td>\n",
       "      <td>113.0</td>\n",
       "    </tr>\n",
       "  </tbody>\n",
       "</table>\n",
       "<p>13233 rows × 8743 columns</p>\n",
       "</div>"
      ],
      "text/plain": [
       "        pid      0      1      2      3      4      5      6      7      8  \\\n",
       "0      5360   42.0   31.0   29.0   36.0   27.0   25.0   30.0   19.0   18.0   \n",
       "1      3434  176.0  164.0  134.0  177.0  168.0  137.0  187.0  178.0  144.0   \n",
       "2      3807   93.0   71.0   67.0  101.0   75.0   68.0  114.0   80.0   70.0   \n",
       "3        26    7.0   16.0   11.0    8.0   15.0   11.0    8.0   16.0   11.0   \n",
       "4      3957   40.0   35.0   22.0   39.0   34.0   21.0   39.0   34.0   21.0   \n",
       "...     ...    ...    ...    ...    ...    ...    ...    ...    ...    ...   \n",
       "13228  5252   34.0   32.0   22.0   32.0   29.0   17.0   35.0   29.0   13.0   \n",
       "13229  2122  129.0  121.0   82.0  137.0  126.0   84.0  156.0  145.0   99.0   \n",
       "13230  2175   25.0   39.0   50.0   37.0   39.0   49.0   59.0   52.0   55.0   \n",
       "13231   373   11.0   15.0   24.0   18.0   22.0   33.0   54.0   58.0   69.0   \n",
       "13232  2941   69.0   57.0   49.0   57.0   47.0   40.0   31.0   18.0   11.0   \n",
       "\n",
       "       ...   8732   8733   8734   8735   8736   8737   8738   8739   8740  \\\n",
       "0      ...   12.0   14.0   13.0   17.0   15.0   14.0   19.0   13.0   12.0   \n",
       "1      ...  129.0  137.0  143.0  136.0  133.0  140.0  133.0  128.0  135.0   \n",
       "2      ...  200.0  196.0  195.0  185.0  153.0  147.0  136.0   75.0   65.0   \n",
       "3      ...   77.0  164.0  117.0   73.0  148.0  106.0   65.0  126.0   94.0   \n",
       "4      ...    7.0   27.0   18.0    6.0   31.0   20.0    8.0   37.0   23.0   \n",
       "...    ...    ...    ...    ...    ...    ...    ...    ...    ...    ...   \n",
       "13228  ...    2.0   30.0   22.0    4.0   37.0   26.0    7.0   54.0   39.0   \n",
       "13229  ...   83.0   76.0  106.0   96.0   93.0   65.0   56.0  106.0   18.0   \n",
       "13230  ...   76.0   54.0   66.0   78.0   53.0   63.0   75.0   42.0   54.0   \n",
       "13231  ...  252.0  208.0  219.0  230.0  131.0  143.0  156.0   57.0   68.0   \n",
       "13232  ...   72.0  166.0  108.0   74.0  144.0  104.0   71.0  171.0  146.0   \n",
       "\n",
       "        8741  \n",
       "0       17.0  \n",
       "1      128.0  \n",
       "2       59.0  \n",
       "3       57.0  \n",
       "4        8.0  \n",
       "...      ...  \n",
       "13228   18.0  \n",
       "13229   15.0  \n",
       "13230   67.0  \n",
       "13231   83.0  \n",
       "13232  113.0  \n",
       "\n",
       "[13233 rows x 8743 columns]"
      ]
     },
     "execution_count": 6,
     "metadata": {},
     "output_type": "execute_result"
    }
   ],
   "source": [
    "df"
   ]
  },
  {
   "cell_type": "markdown",
   "metadata": {},
   "source": [
    "## Looking at the Data"
   ]
  },
  {
   "cell_type": "markdown",
   "metadata": {},
   "source": [
    "We have 13233 rows that we will be dealing with. First we need to identify how many unique *targets* we have."
   ]
  },
  {
   "cell_type": "code",
   "execution_count": 7,
   "metadata": {},
   "outputs": [
    {
     "name": "stdout",
     "output_type": "stream",
     "text": [
      "Unique Targets or Person Ids : 5749\n"
     ]
    }
   ],
   "source": [
    "num_unique_pids = df['pid'].nunique()\n",
    "\n",
    "print('Unique Targets or Person Ids :', num_unique_pids)"
   ]
  },
  {
   "cell_type": "markdown",
   "metadata": {},
   "source": [
    "Let's take a closer look at their frequency."
   ]
  },
  {
   "cell_type": "code",
   "execution_count": 8,
   "metadata": {
    "scrolled": false
   },
   "outputs": [
    {
     "data": {
      "text/plain": [
       "1871    530\n",
       "1047    236\n",
       "5458    144\n",
       "1404    121\n",
       "1892    109\n",
       "       ... \n",
       "1660      1\n",
       "3709      1\n",
       "1668      1\n",
       "3717      1\n",
       "0         1\n",
       "Name: pid, Length: 5749, dtype: int64"
      ]
     },
     "execution_count": 8,
     "metadata": {},
     "output_type": "execute_result"
    }
   ],
   "source": [
    "num_imgs_per_pid = df['pid'].value_counts()\n",
    "\n",
    "num_imgs_per_pid"
   ]
  },
  {
   "cell_type": "markdown",
   "metadata": {},
   "source": [
    "According to the above output, we have *5749* unique *targets* or *person ids*.\n",
    "We can also notice that the *person id* with the highest *number of images* is *1871* with *530* images.\n",
    "\n",
    "\n",
    "\n",
    "Since we have such a huge number, we won't be plotting the *number of images* available for each *person id* with a *bar plot*.\n",
    "\n",
    "Instead, we will be creating a *bar plot* with the *number of images* between a certain *interval*."
   ]
  },
  {
   "cell_type": "code",
   "execution_count": 9,
   "metadata": {
    "scrolled": false
   },
   "outputs": [
    {
     "data": {
      "image/png": "[encoded data removed]",
      "text/plain": [
       "<Figure size 1800x1200 with 1 Axes>"
      ]
     },
     "metadata": {
      "needs_background": "light"
     },
     "output_type": "display_data"
    }
   ],
   "source": [
    "def plot_num_imgs_per_pid(num_imgs_per_pid, x_values):\n",
    "    if type(x_values) is range:\n",
    "        plot_x = [ '{0}-{1}'.format((i + 1), (i + x_values.step)) \n",
    "                      if x_values.step > 1 else (i + 1) \n",
    "                          for i in x_values ]\n",
    "        plot_y = [ len(num_imgs_per_pid[num_imgs_per_pid.map(lambda x: (i) < x <= (i + x_values.step))]) \n",
    "                        for i in x_values ]\n",
    "        \n",
    "        plot_x_label = 'Image Frequency Intervals' if x_values.step > 1 else 'Numer of Images'\n",
    "    else:\n",
    "        plot_x = x_values\n",
    "        plot_y = [ len(num_imgs_per_pid[num_imgs_per_pid.map(lambda x: x == i)])\n",
    "                        for i in x_values ]\n",
    "        \n",
    "        plot_x_label = 'Numer of Images'\n",
    "    \n",
    "    sns.barplot(x=plot_x, y=plot_y)\n",
    "    \n",
    "    plt.title('Targets in Image Frequency Intervals', size=7)\n",
    "    plt.xlabel(plot_x_label, size=6)\n",
    "    plt.xticks(rotation='vertical', size=6)\n",
    "    plt.yticks(rotation='horizontal', size=6)\n",
    "    plt.ylabel('Number of Targets', size=6)\n",
    "    plt.show()\n",
    "\n",
    "plot_num_imgs_per_pid(num_imgs_per_pid, range(0, 530, 30))"
   ]
  },
  {
   "cell_type": "markdown",
   "metadata": {},
   "source": [
    "As you can see, most of the targets have between 0 to 30 images. However, having a person with only 1 image can really lower the accuracy of our model. Therefore, we will be viewing the interval 0 to 30 in more depth."
   ]
  },
  {
   "cell_type": "code",
   "execution_count": 10,
   "metadata": {
    "scrolled": false
   },
   "outputs": [
    {
     "data": {
      "image/png": "[encoded data removed]",
      "text/plain": [
       "<Figure size 1800x1200 with 1 Axes>"
      ]
     },
     "metadata": {
      "needs_background": "light"
     },
     "output_type": "display_data"
    }
   ],
   "source": [
    "plot_num_imgs_per_pid(num_imgs_per_pid, range(0, 30, 1))"
   ]
  },
  {
   "cell_type": "markdown",
   "metadata": {},
   "source": [
    "As we can see, most targets have only 1 *image*.\n",
    "\n",
    "It is important that we avoid those images as we do not wish that they be present inside our *test* data.\n",
    "Their presence in our *test* data can introduce faces that the model does not know; therefore, resulting in wrong predictions and lower accuracy."
   ]
  },
  {
   "cell_type": "markdown",
   "metadata": {},
   "source": [
    "## Splitting the Data"
   ]
  },
  {
   "cell_type": "markdown",
   "metadata": {},
   "source": [
    "Before we go on and split the data, we have to clean it first. Cleaning it will involve removing all the *faces* which have only 1 *image*."
   ]
  },
  {
   "cell_type": "code",
   "execution_count": 11,
   "metadata": {},
   "outputs": [
    {
     "data": {
      "text/html": [
       "<div>\n",
       "<style scoped>\n",
       "    .dataframe tbody tr th:only-of-type {\n",
       "        vertical-align: middle;\n",
       "    }\n",
       "\n",
       "    .dataframe tbody tr th {\n",
       "        vertical-align: top;\n",
       "    }\n",
       "\n",
       "    .dataframe thead th {\n",
       "        text-align: right;\n",
       "    }\n",
       "</style>\n",
       "<table border=\"1\" class=\"dataframe\">\n",
       "  <thead>\n",
       "    <tr style=\"text-align: right;\">\n",
       "      <th></th>\n",
       "      <th>pid</th>\n",
       "      <th>0</th>\n",
       "      <th>1</th>\n",
       "      <th>2</th>\n",
       "      <th>3</th>\n",
       "      <th>4</th>\n",
       "      <th>5</th>\n",
       "      <th>6</th>\n",
       "      <th>7</th>\n",
       "      <th>8</th>\n",
       "      <th>...</th>\n",
       "      <th>8732</th>\n",
       "      <th>8733</th>\n",
       "      <th>8734</th>\n",
       "      <th>8735</th>\n",
       "      <th>8736</th>\n",
       "      <th>8737</th>\n",
       "      <th>8738</th>\n",
       "      <th>8739</th>\n",
       "      <th>8740</th>\n",
       "      <th>8741</th>\n",
       "    </tr>\n",
       "  </thead>\n",
       "  <tbody>\n",
       "    <tr>\n",
       "      <th>0</th>\n",
       "      <td>5360</td>\n",
       "      <td>42.0</td>\n",
       "      <td>31.0</td>\n",
       "      <td>29.0</td>\n",
       "      <td>36.0</td>\n",
       "      <td>27.0</td>\n",
       "      <td>25.0</td>\n",
       "      <td>30.0</td>\n",
       "      <td>19.0</td>\n",
       "      <td>18.0</td>\n",
       "      <td>...</td>\n",
       "      <td>12.0</td>\n",
       "      <td>14.0</td>\n",
       "      <td>13.0</td>\n",
       "      <td>17.0</td>\n",
       "      <td>15.0</td>\n",
       "      <td>14.0</td>\n",
       "      <td>19.0</td>\n",
       "      <td>13.0</td>\n",
       "      <td>12.0</td>\n",
       "      <td>17.0</td>\n",
       "    </tr>\n",
       "    <tr>\n",
       "      <th>1</th>\n",
       "      <td>3434</td>\n",
       "      <td>176.0</td>\n",
       "      <td>164.0</td>\n",
       "      <td>134.0</td>\n",
       "      <td>177.0</td>\n",
       "      <td>168.0</td>\n",
       "      <td>137.0</td>\n",
       "      <td>187.0</td>\n",
       "      <td>178.0</td>\n",
       "      <td>144.0</td>\n",
       "      <td>...</td>\n",
       "      <td>129.0</td>\n",
       "      <td>137.0</td>\n",
       "      <td>143.0</td>\n",
       "      <td>136.0</td>\n",
       "      <td>133.0</td>\n",
       "      <td>140.0</td>\n",
       "      <td>133.0</td>\n",
       "      <td>128.0</td>\n",
       "      <td>135.0</td>\n",
       "      <td>128.0</td>\n",
       "    </tr>\n",
       "    <tr>\n",
       "      <th>3</th>\n",
       "      <td>26</td>\n",
       "      <td>7.0</td>\n",
       "      <td>16.0</td>\n",
       "      <td>11.0</td>\n",
       "      <td>8.0</td>\n",
       "      <td>15.0</td>\n",
       "      <td>11.0</td>\n",
       "      <td>8.0</td>\n",
       "      <td>16.0</td>\n",
       "      <td>11.0</td>\n",
       "      <td>...</td>\n",
       "      <td>77.0</td>\n",
       "      <td>164.0</td>\n",
       "      <td>117.0</td>\n",
       "      <td>73.0</td>\n",
       "      <td>148.0</td>\n",
       "      <td>106.0</td>\n",
       "      <td>65.0</td>\n",
       "      <td>126.0</td>\n",
       "      <td>94.0</td>\n",
       "      <td>57.0</td>\n",
       "    </tr>\n",
       "    <tr>\n",
       "      <th>8</th>\n",
       "      <td>5465</td>\n",
       "      <td>78.0</td>\n",
       "      <td>79.0</td>\n",
       "      <td>73.0</td>\n",
       "      <td>82.0</td>\n",
       "      <td>79.0</td>\n",
       "      <td>74.0</td>\n",
       "      <td>82.0</td>\n",
       "      <td>79.0</td>\n",
       "      <td>75.0</td>\n",
       "      <td>...</td>\n",
       "      <td>103.0</td>\n",
       "      <td>112.0</td>\n",
       "      <td>110.0</td>\n",
       "      <td>103.0</td>\n",
       "      <td>111.0</td>\n",
       "      <td>110.0</td>\n",
       "      <td>103.0</td>\n",
       "      <td>110.0</td>\n",
       "      <td>110.0</td>\n",
       "      <td>102.0</td>\n",
       "    </tr>\n",
       "    <tr>\n",
       "      <th>12</th>\n",
       "      <td>2697</td>\n",
       "      <td>35.0</td>\n",
       "      <td>20.0</td>\n",
       "      <td>10.0</td>\n",
       "      <td>56.0</td>\n",
       "      <td>40.0</td>\n",
       "      <td>24.0</td>\n",
       "      <td>83.0</td>\n",
       "      <td>65.0</td>\n",
       "      <td>41.0</td>\n",
       "      <td>...</td>\n",
       "      <td>21.0</td>\n",
       "      <td>27.0</td>\n",
       "      <td>12.0</td>\n",
       "      <td>8.0</td>\n",
       "      <td>20.0</td>\n",
       "      <td>9.0</td>\n",
       "      <td>9.0</td>\n",
       "      <td>19.0</td>\n",
       "      <td>9.0</td>\n",
       "      <td>11.0</td>\n",
       "    </tr>\n",
       "    <tr>\n",
       "      <th>...</th>\n",
       "      <td>...</td>\n",
       "      <td>...</td>\n",
       "      <td>...</td>\n",
       "      <td>...</td>\n",
       "      <td>...</td>\n",
       "      <td>...</td>\n",
       "      <td>...</td>\n",
       "      <td>...</td>\n",
       "      <td>...</td>\n",
       "      <td>...</td>\n",
       "      <td>...</td>\n",
       "      <td>...</td>\n",
       "      <td>...</td>\n",
       "      <td>...</td>\n",
       "      <td>...</td>\n",
       "      <td>...</td>\n",
       "      <td>...</td>\n",
       "      <td>...</td>\n",
       "      <td>...</td>\n",
       "      <td>...</td>\n",
       "      <td>...</td>\n",
       "    </tr>\n",
       "    <tr>\n",
       "      <th>13225</th>\n",
       "      <td>2530</td>\n",
       "      <td>86.0</td>\n",
       "      <td>81.0</td>\n",
       "      <td>50.0</td>\n",
       "      <td>98.0</td>\n",
       "      <td>91.0</td>\n",
       "      <td>57.0</td>\n",
       "      <td>127.0</td>\n",
       "      <td>119.0</td>\n",
       "      <td>83.0</td>\n",
       "      <td>...</td>\n",
       "      <td>14.0</td>\n",
       "      <td>32.0</td>\n",
       "      <td>37.0</td>\n",
       "      <td>23.0</td>\n",
       "      <td>36.0</td>\n",
       "      <td>44.0</td>\n",
       "      <td>28.0</td>\n",
       "      <td>38.0</td>\n",
       "      <td>47.0</td>\n",
       "      <td>30.0</td>\n",
       "    </tr>\n",
       "    <tr>\n",
       "      <th>13228</th>\n",
       "      <td>5252</td>\n",
       "      <td>34.0</td>\n",
       "      <td>32.0</td>\n",
       "      <td>22.0</td>\n",
       "      <td>32.0</td>\n",
       "      <td>29.0</td>\n",
       "      <td>17.0</td>\n",
       "      <td>35.0</td>\n",
       "      <td>29.0</td>\n",
       "      <td>13.0</td>\n",
       "      <td>...</td>\n",
       "      <td>2.0</td>\n",
       "      <td>30.0</td>\n",
       "      <td>22.0</td>\n",
       "      <td>4.0</td>\n",
       "      <td>37.0</td>\n",
       "      <td>26.0</td>\n",
       "      <td>7.0</td>\n",
       "      <td>54.0</td>\n",
       "      <td>39.0</td>\n",
       "      <td>18.0</td>\n",
       "    </tr>\n",
       "    <tr>\n",
       "      <th>13230</th>\n",
       "      <td>2175</td>\n",
       "      <td>25.0</td>\n",
       "      <td>39.0</td>\n",
       "      <td>50.0</td>\n",
       "      <td>37.0</td>\n",
       "      <td>39.0</td>\n",
       "      <td>49.0</td>\n",
       "      <td>59.0</td>\n",
       "      <td>52.0</td>\n",
       "      <td>55.0</td>\n",
       "      <td>...</td>\n",
       "      <td>76.0</td>\n",
       "      <td>54.0</td>\n",
       "      <td>66.0</td>\n",
       "      <td>78.0</td>\n",
       "      <td>53.0</td>\n",
       "      <td>63.0</td>\n",
       "      <td>75.0</td>\n",
       "      <td>42.0</td>\n",
       "      <td>54.0</td>\n",
       "      <td>67.0</td>\n",
       "    </tr>\n",
       "    <tr>\n",
       "      <th>13231</th>\n",
       "      <td>373</td>\n",
       "      <td>11.0</td>\n",
       "      <td>15.0</td>\n",
       "      <td>24.0</td>\n",
       "      <td>18.0</td>\n",
       "      <td>22.0</td>\n",
       "      <td>33.0</td>\n",
       "      <td>54.0</td>\n",
       "      <td>58.0</td>\n",
       "      <td>69.0</td>\n",
       "      <td>...</td>\n",
       "      <td>252.0</td>\n",
       "      <td>208.0</td>\n",
       "      <td>219.0</td>\n",
       "      <td>230.0</td>\n",
       "      <td>131.0</td>\n",
       "      <td>143.0</td>\n",
       "      <td>156.0</td>\n",
       "      <td>57.0</td>\n",
       "      <td>68.0</td>\n",
       "      <td>83.0</td>\n",
       "    </tr>\n",
       "    <tr>\n",
       "      <th>13232</th>\n",
       "      <td>2941</td>\n",
       "      <td>69.0</td>\n",
       "      <td>57.0</td>\n",
       "      <td>49.0</td>\n",
       "      <td>57.0</td>\n",
       "      <td>47.0</td>\n",
       "      <td>40.0</td>\n",
       "      <td>31.0</td>\n",
       "      <td>18.0</td>\n",
       "      <td>11.0</td>\n",
       "      <td>...</td>\n",
       "      <td>72.0</td>\n",
       "      <td>166.0</td>\n",
       "      <td>108.0</td>\n",
       "      <td>74.0</td>\n",
       "      <td>144.0</td>\n",
       "      <td>104.0</td>\n",
       "      <td>71.0</td>\n",
       "      <td>171.0</td>\n",
       "      <td>146.0</td>\n",
       "      <td>113.0</td>\n",
       "    </tr>\n",
       "  </tbody>\n",
       "</table>\n",
       "<p>9164 rows × 8743 columns</p>\n",
       "</div>"
      ],
      "text/plain": [
       "        pid      0      1      2      3      4      5      6      7      8  \\\n",
       "0      5360   42.0   31.0   29.0   36.0   27.0   25.0   30.0   19.0   18.0   \n",
       "1      3434  176.0  164.0  134.0  177.0  168.0  137.0  187.0  178.0  144.0   \n",
       "3        26    7.0   16.0   11.0    8.0   15.0   11.0    8.0   16.0   11.0   \n",
       "8      5465   78.0   79.0   73.0   82.0   79.0   74.0   82.0   79.0   75.0   \n",
       "12     2697   35.0   20.0   10.0   56.0   40.0   24.0   83.0   65.0   41.0   \n",
       "...     ...    ...    ...    ...    ...    ...    ...    ...    ...    ...   \n",
       "13225  2530   86.0   81.0   50.0   98.0   91.0   57.0  127.0  119.0   83.0   \n",
       "13228  5252   34.0   32.0   22.0   32.0   29.0   17.0   35.0   29.0   13.0   \n",
       "13230  2175   25.0   39.0   50.0   37.0   39.0   49.0   59.0   52.0   55.0   \n",
       "13231   373   11.0   15.0   24.0   18.0   22.0   33.0   54.0   58.0   69.0   \n",
       "13232  2941   69.0   57.0   49.0   57.0   47.0   40.0   31.0   18.0   11.0   \n",
       "\n",
       "       ...   8732   8733   8734   8735   8736   8737   8738   8739   8740  \\\n",
       "0      ...   12.0   14.0   13.0   17.0   15.0   14.0   19.0   13.0   12.0   \n",
       "1      ...  129.0  137.0  143.0  136.0  133.0  140.0  133.0  128.0  135.0   \n",
       "3      ...   77.0  164.0  117.0   73.0  148.0  106.0   65.0  126.0   94.0   \n",
       "8      ...  103.0  112.0  110.0  103.0  111.0  110.0  103.0  110.0  110.0   \n",
       "12     ...   21.0   27.0   12.0    8.0   20.0    9.0    9.0   19.0    9.0   \n",
       "...    ...    ...    ...    ...    ...    ...    ...    ...    ...    ...   \n",
       "13225  ...   14.0   32.0   37.0   23.0   36.0   44.0   28.0   38.0   47.0   \n",
       "13228  ...    2.0   30.0   22.0    4.0   37.0   26.0    7.0   54.0   39.0   \n",
       "13230  ...   76.0   54.0   66.0   78.0   53.0   63.0   75.0   42.0   54.0   \n",
       "13231  ...  252.0  208.0  219.0  230.0  131.0  143.0  156.0   57.0   68.0   \n",
       "13232  ...   72.0  166.0  108.0   74.0  144.0  104.0   71.0  171.0  146.0   \n",
       "\n",
       "        8741  \n",
       "0       17.0  \n",
       "1      128.0  \n",
       "3       57.0  \n",
       "8      102.0  \n",
       "12      11.0  \n",
       "...      ...  \n",
       "13225   30.0  \n",
       "13228   18.0  \n",
       "13230   67.0  \n",
       "13231   83.0  \n",
       "13232  113.0  \n",
       "\n",
       "[9164 rows x 8743 columns]"
      ]
     },
     "execution_count": 11,
     "metadata": {},
     "output_type": "execute_result"
    }
   ],
   "source": [
    "targets_with_one_img = num_imgs_per_pid[num_imgs_per_pid == 1]\n",
    "\n",
    "filtered_df = df[df['pid'].map(lambda x: x not in targets_with_one_img)]\n",
    "\n",
    "filtered_df"
   ]
  },
  {
   "cell_type": "markdown",
   "metadata": {},
   "source": [
    "So let's take a quick look again at the number of unique people we have in our dataset."
   ]
  },
  {
   "cell_type": "code",
   "execution_count": 12,
   "metadata": {
    "scrolled": false
   },
   "outputs": [
    {
     "name": "stdout",
     "output_type": "stream",
     "text": [
      "Unique Targets or Person Ids : 1680\n"
     ]
    }
   ],
   "source": [
    "num_unique_pids = filtered_df['pid'].nunique()\n",
    "\n",
    "print('Unique Targets or Person Ids :', num_unique_pids)"
   ]
  },
  {
   "cell_type": "markdown",
   "metadata": {},
   "source": [
    "Now that we have the unique targets and person ids reduced down to 1680, let us update the `pid` column we have in our `DataFrame`."
   ]
  },
  {
   "cell_type": "code",
   "execution_count": 13,
   "metadata": {},
   "outputs": [
    {
     "name": "stderr",
     "output_type": "stream",
     "text": [
      "/home/nizarmah/Documents/Learning/Machine Learning/oracle/.venv/lib/python3.6/site-packages/ipykernel_launcher.py:3: SettingWithCopyWarning: \n",
      "A value is trying to be set on a copy of a slice from a DataFrame.\n",
      "Try using .loc[row_indexer,col_indexer] = value instead\n",
      "\n",
      "See the caveats in the documentation: https://pandas.pydata.org/pandas-docs/stable/user_guide/indexing.html#returning-a-view-versus-a-copy\n",
      "  This is separate from the ipykernel package so we can avoid doing imports until\n"
     ]
    },
    {
     "data": {
      "text/html": [
       "<div>\n",
       "<style scoped>\n",
       "    .dataframe tbody tr th:only-of-type {\n",
       "        vertical-align: middle;\n",
       "    }\n",
       "\n",
       "    .dataframe tbody tr th {\n",
       "        vertical-align: top;\n",
       "    }\n",
       "\n",
       "    .dataframe thead th {\n",
       "        text-align: right;\n",
       "    }\n",
       "</style>\n",
       "<table border=\"1\" class=\"dataframe\">\n",
       "  <thead>\n",
       "    <tr style=\"text-align: right;\">\n",
       "      <th></th>\n",
       "      <th>pid</th>\n",
       "      <th>0</th>\n",
       "      <th>1</th>\n",
       "      <th>2</th>\n",
       "      <th>3</th>\n",
       "      <th>4</th>\n",
       "      <th>5</th>\n",
       "      <th>6</th>\n",
       "      <th>7</th>\n",
       "      <th>8</th>\n",
       "      <th>...</th>\n",
       "      <th>8732</th>\n",
       "      <th>8733</th>\n",
       "      <th>8734</th>\n",
       "      <th>8735</th>\n",
       "      <th>8736</th>\n",
       "      <th>8737</th>\n",
       "      <th>8738</th>\n",
       "      <th>8739</th>\n",
       "      <th>8740</th>\n",
       "      <th>8741</th>\n",
       "    </tr>\n",
       "  </thead>\n",
       "  <tbody>\n",
       "    <tr>\n",
       "      <th>0</th>\n",
       "      <td>0</td>\n",
       "      <td>42.0</td>\n",
       "      <td>31.0</td>\n",
       "      <td>29.0</td>\n",
       "      <td>36.0</td>\n",
       "      <td>27.0</td>\n",
       "      <td>25.0</td>\n",
       "      <td>30.0</td>\n",
       "      <td>19.0</td>\n",
       "      <td>18.0</td>\n",
       "      <td>...</td>\n",
       "      <td>12.0</td>\n",
       "      <td>14.0</td>\n",
       "      <td>13.0</td>\n",
       "      <td>17.0</td>\n",
       "      <td>15.0</td>\n",
       "      <td>14.0</td>\n",
       "      <td>19.0</td>\n",
       "      <td>13.0</td>\n",
       "      <td>12.0</td>\n",
       "      <td>17.0</td>\n",
       "    </tr>\n",
       "    <tr>\n",
       "      <th>1</th>\n",
       "      <td>1</td>\n",
       "      <td>176.0</td>\n",
       "      <td>164.0</td>\n",
       "      <td>134.0</td>\n",
       "      <td>177.0</td>\n",
       "      <td>168.0</td>\n",
       "      <td>137.0</td>\n",
       "      <td>187.0</td>\n",
       "      <td>178.0</td>\n",
       "      <td>144.0</td>\n",
       "      <td>...</td>\n",
       "      <td>129.0</td>\n",
       "      <td>137.0</td>\n",
       "      <td>143.0</td>\n",
       "      <td>136.0</td>\n",
       "      <td>133.0</td>\n",
       "      <td>140.0</td>\n",
       "      <td>133.0</td>\n",
       "      <td>128.0</td>\n",
       "      <td>135.0</td>\n",
       "      <td>128.0</td>\n",
       "    </tr>\n",
       "    <tr>\n",
       "      <th>3</th>\n",
       "      <td>2</td>\n",
       "      <td>7.0</td>\n",
       "      <td>16.0</td>\n",
       "      <td>11.0</td>\n",
       "      <td>8.0</td>\n",
       "      <td>15.0</td>\n",
       "      <td>11.0</td>\n",
       "      <td>8.0</td>\n",
       "      <td>16.0</td>\n",
       "      <td>11.0</td>\n",
       "      <td>...</td>\n",
       "      <td>77.0</td>\n",
       "      <td>164.0</td>\n",
       "      <td>117.0</td>\n",
       "      <td>73.0</td>\n",
       "      <td>148.0</td>\n",
       "      <td>106.0</td>\n",
       "      <td>65.0</td>\n",
       "      <td>126.0</td>\n",
       "      <td>94.0</td>\n",
       "      <td>57.0</td>\n",
       "    </tr>\n",
       "    <tr>\n",
       "      <th>8</th>\n",
       "      <td>3</td>\n",
       "      <td>78.0</td>\n",
       "      <td>79.0</td>\n",
       "      <td>73.0</td>\n",
       "      <td>82.0</td>\n",
       "      <td>79.0</td>\n",
       "      <td>74.0</td>\n",
       "      <td>82.0</td>\n",
       "      <td>79.0</td>\n",
       "      <td>75.0</td>\n",
       "      <td>...</td>\n",
       "      <td>103.0</td>\n",
       "      <td>112.0</td>\n",
       "      <td>110.0</td>\n",
       "      <td>103.0</td>\n",
       "      <td>111.0</td>\n",
       "      <td>110.0</td>\n",
       "      <td>103.0</td>\n",
       "      <td>110.0</td>\n",
       "      <td>110.0</td>\n",
       "      <td>102.0</td>\n",
       "    </tr>\n",
       "    <tr>\n",
       "      <th>12</th>\n",
       "      <td>4</td>\n",
       "      <td>35.0</td>\n",
       "      <td>20.0</td>\n",
       "      <td>10.0</td>\n",
       "      <td>56.0</td>\n",
       "      <td>40.0</td>\n",
       "      <td>24.0</td>\n",
       "      <td>83.0</td>\n",
       "      <td>65.0</td>\n",
       "      <td>41.0</td>\n",
       "      <td>...</td>\n",
       "      <td>21.0</td>\n",
       "      <td>27.0</td>\n",
       "      <td>12.0</td>\n",
       "      <td>8.0</td>\n",
       "      <td>20.0</td>\n",
       "      <td>9.0</td>\n",
       "      <td>9.0</td>\n",
       "      <td>19.0</td>\n",
       "      <td>9.0</td>\n",
       "      <td>11.0</td>\n",
       "    </tr>\n",
       "    <tr>\n",
       "      <th>...</th>\n",
       "      <td>...</td>\n",
       "      <td>...</td>\n",
       "      <td>...</td>\n",
       "      <td>...</td>\n",
       "      <td>...</td>\n",
       "      <td>...</td>\n",
       "      <td>...</td>\n",
       "      <td>...</td>\n",
       "      <td>...</td>\n",
       "      <td>...</td>\n",
       "      <td>...</td>\n",
       "      <td>...</td>\n",
       "      <td>...</td>\n",
       "      <td>...</td>\n",
       "      <td>...</td>\n",
       "      <td>...</td>\n",
       "      <td>...</td>\n",
       "      <td>...</td>\n",
       "      <td>...</td>\n",
       "      <td>...</td>\n",
       "      <td>...</td>\n",
       "    </tr>\n",
       "    <tr>\n",
       "      <th>13225</th>\n",
       "      <td>8</td>\n",
       "      <td>86.0</td>\n",
       "      <td>81.0</td>\n",
       "      <td>50.0</td>\n",
       "      <td>98.0</td>\n",
       "      <td>91.0</td>\n",
       "      <td>57.0</td>\n",
       "      <td>127.0</td>\n",
       "      <td>119.0</td>\n",
       "      <td>83.0</td>\n",
       "      <td>...</td>\n",
       "      <td>14.0</td>\n",
       "      <td>32.0</td>\n",
       "      <td>37.0</td>\n",
       "      <td>23.0</td>\n",
       "      <td>36.0</td>\n",
       "      <td>44.0</td>\n",
       "      <td>28.0</td>\n",
       "      <td>38.0</td>\n",
       "      <td>47.0</td>\n",
       "      <td>30.0</td>\n",
       "    </tr>\n",
       "    <tr>\n",
       "      <th>13228</th>\n",
       "      <td>371</td>\n",
       "      <td>34.0</td>\n",
       "      <td>32.0</td>\n",
       "      <td>22.0</td>\n",
       "      <td>32.0</td>\n",
       "      <td>29.0</td>\n",
       "      <td>17.0</td>\n",
       "      <td>35.0</td>\n",
       "      <td>29.0</td>\n",
       "      <td>13.0</td>\n",
       "      <td>...</td>\n",
       "      <td>2.0</td>\n",
       "      <td>30.0</td>\n",
       "      <td>22.0</td>\n",
       "      <td>4.0</td>\n",
       "      <td>37.0</td>\n",
       "      <td>26.0</td>\n",
       "      <td>7.0</td>\n",
       "      <td>54.0</td>\n",
       "      <td>39.0</td>\n",
       "      <td>18.0</td>\n",
       "    </tr>\n",
       "    <tr>\n",
       "      <th>13230</th>\n",
       "      <td>42</td>\n",
       "      <td>25.0</td>\n",
       "      <td>39.0</td>\n",
       "      <td>50.0</td>\n",
       "      <td>37.0</td>\n",
       "      <td>39.0</td>\n",
       "      <td>49.0</td>\n",
       "      <td>59.0</td>\n",
       "      <td>52.0</td>\n",
       "      <td>55.0</td>\n",
       "      <td>...</td>\n",
       "      <td>76.0</td>\n",
       "      <td>54.0</td>\n",
       "      <td>66.0</td>\n",
       "      <td>78.0</td>\n",
       "      <td>53.0</td>\n",
       "      <td>63.0</td>\n",
       "      <td>75.0</td>\n",
       "      <td>42.0</td>\n",
       "      <td>54.0</td>\n",
       "      <td>67.0</td>\n",
       "    </tr>\n",
       "    <tr>\n",
       "      <th>13231</th>\n",
       "      <td>111</td>\n",
       "      <td>11.0</td>\n",
       "      <td>15.0</td>\n",
       "      <td>24.0</td>\n",
       "      <td>18.0</td>\n",
       "      <td>22.0</td>\n",
       "      <td>33.0</td>\n",
       "      <td>54.0</td>\n",
       "      <td>58.0</td>\n",
       "      <td>69.0</td>\n",
       "      <td>...</td>\n",
       "      <td>252.0</td>\n",
       "      <td>208.0</td>\n",
       "      <td>219.0</td>\n",
       "      <td>230.0</td>\n",
       "      <td>131.0</td>\n",
       "      <td>143.0</td>\n",
       "      <td>156.0</td>\n",
       "      <td>57.0</td>\n",
       "      <td>68.0</td>\n",
       "      <td>83.0</td>\n",
       "    </tr>\n",
       "    <tr>\n",
       "      <th>13232</th>\n",
       "      <td>180</td>\n",
       "      <td>69.0</td>\n",
       "      <td>57.0</td>\n",
       "      <td>49.0</td>\n",
       "      <td>57.0</td>\n",
       "      <td>47.0</td>\n",
       "      <td>40.0</td>\n",
       "      <td>31.0</td>\n",
       "      <td>18.0</td>\n",
       "      <td>11.0</td>\n",
       "      <td>...</td>\n",
       "      <td>72.0</td>\n",
       "      <td>166.0</td>\n",
       "      <td>108.0</td>\n",
       "      <td>74.0</td>\n",
       "      <td>144.0</td>\n",
       "      <td>104.0</td>\n",
       "      <td>71.0</td>\n",
       "      <td>171.0</td>\n",
       "      <td>146.0</td>\n",
       "      <td>113.0</td>\n",
       "    </tr>\n",
       "  </tbody>\n",
       "</table>\n",
       "<p>9164 rows × 8743 columns</p>\n",
       "</div>"
      ],
      "text/plain": [
       "       pid      0      1      2      3      4      5      6      7      8  \\\n",
       "0        0   42.0   31.0   29.0   36.0   27.0   25.0   30.0   19.0   18.0   \n",
       "1        1  176.0  164.0  134.0  177.0  168.0  137.0  187.0  178.0  144.0   \n",
       "3        2    7.0   16.0   11.0    8.0   15.0   11.0    8.0   16.0   11.0   \n",
       "8        3   78.0   79.0   73.0   82.0   79.0   74.0   82.0   79.0   75.0   \n",
       "12       4   35.0   20.0   10.0   56.0   40.0   24.0   83.0   65.0   41.0   \n",
       "...    ...    ...    ...    ...    ...    ...    ...    ...    ...    ...   \n",
       "13225    8   86.0   81.0   50.0   98.0   91.0   57.0  127.0  119.0   83.0   \n",
       "13228  371   34.0   32.0   22.0   32.0   29.0   17.0   35.0   29.0   13.0   \n",
       "13230   42   25.0   39.0   50.0   37.0   39.0   49.0   59.0   52.0   55.0   \n",
       "13231  111   11.0   15.0   24.0   18.0   22.0   33.0   54.0   58.0   69.0   \n",
       "13232  180   69.0   57.0   49.0   57.0   47.0   40.0   31.0   18.0   11.0   \n",
       "\n",
       "       ...   8732   8733   8734   8735   8736   8737   8738   8739   8740  \\\n",
       "0      ...   12.0   14.0   13.0   17.0   15.0   14.0   19.0   13.0   12.0   \n",
       "1      ...  129.0  137.0  143.0  136.0  133.0  140.0  133.0  128.0  135.0   \n",
       "3      ...   77.0  164.0  117.0   73.0  148.0  106.0   65.0  126.0   94.0   \n",
       "8      ...  103.0  112.0  110.0  103.0  111.0  110.0  103.0  110.0  110.0   \n",
       "12     ...   21.0   27.0   12.0    8.0   20.0    9.0    9.0   19.0    9.0   \n",
       "...    ...    ...    ...    ...    ...    ...    ...    ...    ...    ...   \n",
       "13225  ...   14.0   32.0   37.0   23.0   36.0   44.0   28.0   38.0   47.0   \n",
       "13228  ...    2.0   30.0   22.0    4.0   37.0   26.0    7.0   54.0   39.0   \n",
       "13230  ...   76.0   54.0   66.0   78.0   53.0   63.0   75.0   42.0   54.0   \n",
       "13231  ...  252.0  208.0  219.0  230.0  131.0  143.0  156.0   57.0   68.0   \n",
       "13232  ...   72.0  166.0  108.0   74.0  144.0  104.0   71.0  171.0  146.0   \n",
       "\n",
       "        8741  \n",
       "0       17.0  \n",
       "1      128.0  \n",
       "3       57.0  \n",
       "8      102.0  \n",
       "12      11.0  \n",
       "...      ...  \n",
       "13225   30.0  \n",
       "13228   18.0  \n",
       "13230   67.0  \n",
       "13231   83.0  \n",
       "13232  113.0  \n",
       "\n",
       "[9164 rows x 8743 columns]"
      ]
     },
     "execution_count": 13,
     "metadata": {},
     "output_type": "execute_result"
    }
   ],
   "source": [
    "filtered_names = names[filtered_df['pid'].unique()]\n",
    "\n",
    "filtered_df['pid'] = filtered_df['pid'].map(lambda x: np.where(filtered_names == names[x])[0][0])\n",
    "\n",
    "filtered_df"
   ]
  },
  {
   "cell_type": "markdown",
   "metadata": {},
   "source": [
    "So let's take a quick look again at the frequency of the data that we have."
   ]
  },
  {
   "cell_type": "code",
   "execution_count": 14,
   "metadata": {},
   "outputs": [
    {
     "data": {
      "image/png": "[encoded data removed]",
      "text/plain": [
       "<Figure size 1800x1200 with 1 Axes>"
      ]
     },
     "metadata": {
      "needs_background": "light"
     },
     "output_type": "display_data"
    }
   ],
   "source": [
    "num_imgs_per_pid = filtered_df['pid'].value_counts()\n",
    "\n",
    "plot_num_imgs_per_pid(num_imgs_per_pid, num_imgs_per_pid.unique())"
   ]
  },
  {
   "cell_type": "markdown",
   "metadata": {},
   "source": [
    "Now that we can see the different number of images along with their targets, we should *train-test split* the data.\n",
    "\n",
    "But we can't just simply *train-test split* the data randomly, because then we might have **all images** of a **single person** end up in the *test* data (we have images of a single person as low as 2 and 3 images).\n",
    "Then the prediction for such *test* data will be completely incorrect which will result in **high variance**.\n",
    "\n",
    "Therefore, the *train-test* split should make sure that every *person* is available in both the *train* and *test* data.\n",
    "\n",
    "So, we will start by defining a function that will return the *person ids* that are present in the *test* data but not in the *train* data."
   ]
  },
  {
   "cell_type": "code",
   "execution_count": 15,
   "metadata": {},
   "outputs": [],
   "source": [
    "def missing_pids(train, test):\n",
    "    train_pids = train.values\n",
    "    \n",
    "    return test[test.map(lambda x: x not in train_pids)].unique()"
   ]
  },
  {
   "cell_type": "markdown",
   "metadata": {},
   "source": [
    "We will be starting by trying `sklearn.model_selection.train_test_split` and seeing if it will satisfy our requirements by having the *test* data not contain any unknown *person ids*."
   ]
  },
  {
   "cell_type": "code",
   "execution_count": 16,
   "metadata": {},
   "outputs": [
    {
     "name": "stdout",
     "output_type": "stream",
     "text": [
      "Missing PIDs from Training Data : 41\n"
     ]
    }
   ],
   "source": [
    "X = filtered_df.drop(['pid'], axis=1)\n",
    "y = filtered_df['pid']\n",
    "\n",
    "X_train, X_valid, y_train, y_valid = train_test_split(X, y, test_size=0.2, random_state=42)\n",
    "\n",
    "print(\"Missing PIDs from Training Data :\", len(missing_pids(y_train, y_valid)))"
   ]
  },
  {
   "cell_type": "markdown",
   "metadata": {},
   "source": [
    "As you can see, we have many missing *person ids* from the *train* data. This all would result in wrong predictions.\n",
    "\n",
    "Due to the above results, we will be using the `stratify` parameter in `train_test_split`. This helps us split the data in a stratified fashion, which means that we won't have any missing PIDs from the *train* data."
   ]
  },
  {
   "cell_type": "code",
   "execution_count": 17,
   "metadata": {},
   "outputs": [
    {
     "name": "stdout",
     "output_type": "stream",
     "text": [
      "Missing PIDs from Training Data : 0\n"
     ]
    }
   ],
   "source": [
    "X_train, X_valid, y_train, y_valid = train_test_split(X, y, test_size=0.2, random_state=42, stratify=y)\n",
    "\n",
    "print(\"Missing PIDs from Training Data :\", len(missing_pids(y_train, y_valid)))"
   ]
  },
  {
   "cell_type": "markdown",
   "metadata": {},
   "source": [
    "## Feature Selection"
   ]
  },
  {
   "cell_type": "markdown",
   "metadata": {},
   "source": [
    "Before thinking about feature selection, we will be taking a look at the picture and the features we have.\n",
    "\n",
    "According to the [`sklearn.datasets.fetch_lfw_people` docs](https://scikit-learn.org/stable/modules/generated/sklearn.datasets.fetch_lfw_people.html), the image dimensions are *62 x 47 pixels*."
   ]
  },
  {
   "cell_type": "code",
   "execution_count": 18,
   "metadata": {},
   "outputs": [
    {
     "data": {
      "image/png": "[encoded data removed]",
      "text/plain": [
       "<Figure size 310x235 with 1 Axes>"
      ]
     },
     "metadata": {
      "needs_background": "light"
     },
     "output_type": "display_data"
    }
   ],
   "source": [
    "IMG_SHAPE = (62, 47, 3)\n",
    "\n",
    "def printImage(img_data, dpi=50):\n",
    "    img_shape = img_data.shape\n",
    "    \n",
    "    plt.figure(figsize=(img_shape[0] / 10, img_shape[1] / 10), dpi=dpi)\n",
    "    plt.axis(\"off\")\n",
    "    plt.imshow(img_data)\n",
    "    plt.show()\n",
    "    \n",
    "def showImage(dataset_row):\n",
    "    img_data = dataset_row.apply(lambda x: int(x)).values\n",
    "    img_data = img_data.reshape(IMG_SHAPE)\n",
    "    \n",
    "    printImage(img_data)\n",
    "\n",
    "showImage(X.sample(n=1).iloc[0, :])"
   ]
  },
  {
   "cell_type": "markdown",
   "metadata": {},
   "source": [
    "As you can see, the image is cropped on the face. Therefore, what we will be dealing with only is the actual face and not any extra unnecessary sections of the picture."
   ]
  },
  {
   "cell_type": "markdown",
   "metadata": {},
   "source": [
    "In addition, it is important to note that every pixel corresponds to 3 RGB values.\n",
    "\n",
    "Therefore, the number of features is large because it is equal to *62 x 47 x 3*.\n",
    "This is explained by a picture with a height of 62 pixels, width of 47 pixels, and each pixel is described by RGB values instead of a Grayscale value (which would correspond to only 1 value)."
   ]
  },
  {
   "cell_type": "markdown",
   "metadata": {},
   "source": [
    "Therefore, we won't be removing any features from our dataset because this huge number of features is the whole actual image. In addition, having it in RGB instead of Grayscale helps decrease our bias."
   ]
  },
  {
   "cell_type": "markdown",
   "metadata": {},
   "source": [
    "## Transfer Learning"
   ]
  },
  {
   "cell_type": "markdown",
   "metadata": {},
   "source": [
    "For transfer learning, we will be using [Tensorflow's Transfer Learning tutorial](https://www.tensorflow.org/tutorials/images/transfer_learning).\n",
    "\n",
    "We will be following the *Fine Tuning* approach of the model. It involves retraining certain layers of the convolutional base of the model.\n",
    "\n",
    "However, we need to preprocess the data first."
   ]
  },
  {
   "cell_type": "markdown",
   "metadata": {},
   "source": [
    "### Data Preprocessing"
   ]
  },
  {
   "cell_type": "markdown",
   "metadata": {},
   "source": [
    "Before we start fine tuning the model, we need to setup our train and validation datasets. We will use `ImageDataGenerator` in order to scale the RGB values of the features from `int` to `float`.\n",
    "\n",
    "In addition, the features and the labels have to be listed in a different way than from our `DataFrame`. Each entry should have the following form:\n",
    "- Image Shape : `(62, 47, 3)`\n",
    "- Label : `[ True False False False ... False ]`\n",
    "- Label Shape : `(1680, )`\n",
    "\n",
    "We also need to specify a batch size in order to save memory and running out of memory. Batch size can be of different values such as 8, 16, 32, 64, 128... In our case, we will use 8 because it was the best performing one with our dataset."
   ]
  },
  {
   "cell_type": "code",
   "execution_count": 19,
   "metadata": {
    "scrolled": false
   },
   "outputs": [],
   "source": [
    "def getImageData(X_data):\n",
    "    return np.apply_along_axis(lambda x: x.reshape(IMG_SHAPE), axis=1, arr=X_data.values)\n",
    "\n",
    "def getImageLabels(y_data):\n",
    "    return [ i == y.unique() for i in y_data.values ]\n",
    "\n",
    "batch_size = 8\n",
    "\n",
    "train_datagen = tf.keras.preprocessing.image.ImageDataGenerator(rescale=1/255.)\n",
    "valid_datagen = tf.keras.preprocessing.image.ImageDataGenerator(rescale=1/255.)\n",
    "\n",
    "train_generator = train_datagen.flow(getImageData(X_train), y=getImageLabels(y_train),\n",
    "                                        batch_size=batch_size, shuffle=True)\n",
    "valid_generator = valid_datagen.flow(getImageData(X_valid), y=getImageLabels(y_valid),\n",
    "                                        batch_size=batch_size, shuffle=True)"
   ]
  },
  {
   "cell_type": "markdown",
   "metadata": {},
   "source": [
    "### Creating the Convolutional Model"
   ]
  },
  {
   "cell_type": "markdown",
   "metadata": {},
   "source": [
    "First, instantiate a MobileNet V2 model pre-loaded with weights trained on ImageNet. By specifying the `include_top=False` argument, you load a network that doesn't include the classification layers at the top, which is ideal for feature extraction."
   ]
  },
  {
   "cell_type": "markdown",
   "metadata": {},
   "source": [
    "In addition, by specifying the `input_tensor=Input(shape=IMG_SHAPE))`, we would be defining our input shape to the model. We could do so by defining `input_shape=IMG_SHAPE`; however, it resulted in an error addressed in the following [GitHub issue](https://github.com/keras-team/keras/issues/8090). Therefore, we will be using this [GitHub comment](https://github.com/keras-team/keras/issues/8090#issuecomment-438025313) as a solution.\n",
    "\n",
    "However, it is important to note that the *weights* of the neural network will be initialized to those of the `imagenet` `Dataset` with *input shape* as *224 x 224*."
   ]
  },
  {
   "cell_type": "code",
   "execution_count": 20,
   "metadata": {},
   "outputs": [],
   "source": [
    "covnet_base = tf.keras.applications.VGG16(input_tensor=tf.keras.Input(shape=IMG_SHAPE),\n",
    "                                                   include_top=False, weights='imagenet',\n",
    "                                                       pooling='avg')"
   ]
  },
  {
   "cell_type": "markdown",
   "metadata": {},
   "source": [
    "Fine tuning the model involves training the convolutional base. Therefore, the convolutional base should be trainable.\n",
    "\n",
    "This is important because the *weights* of the pre-trained convolutional model will be updated according to our dataset."
   ]
  },
  {
   "cell_type": "code",
   "execution_count": 21,
   "metadata": {},
   "outputs": [],
   "source": [
    "covnet_base.trainable = True"
   ]
  },
  {
   "cell_type": "markdown",
   "metadata": {},
   "source": [
    "We have a small dataset and the pre-trained model is an image classification model. Therefore, we won't be retraining the whole model or all its layers. Instead, we will be freezing some of the layers and training the rest. Therefore, we can't retrain the whole convolutional model. Instead, we have to choose certain number of layers.\n",
    "\n",
    "So, first of all, we need to see how many layers the base model has."
   ]
  },
  {
   "cell_type": "code",
   "execution_count": 22,
   "metadata": {},
   "outputs": [
    {
     "name": "stdout",
     "output_type": "stream",
     "text": [
      "Number of layers in the base model:  20\n"
     ]
    }
   ],
   "source": [
    "print(\"Number of layers in the base model: \", len(covnet_base.layers))"
   ]
  },
  {
   "cell_type": "markdown",
   "metadata": {},
   "source": [
    "Therefore, we will start fine tuning the layers from a certain layer and upwards. That way, the general layers stay the same or get frozen; meanwhile, the more specific layers are the ones that are subject to change."
   ]
  },
  {
   "cell_type": "code",
   "execution_count": 23,
   "metadata": {},
   "outputs": [],
   "source": [
    "fine_tune_at = 10\n",
    "\n",
    "for layer in covnet_base.layers[:fine_tune_at]:\n",
    "    layer.trainable =  False"
   ]
  },
  {
   "cell_type": "markdown",
   "metadata": {},
   "source": [
    "### Creating the Model"
   ]
  },
  {
   "cell_type": "markdown",
   "metadata": {},
   "source": [
    "We will start by creating our model, which will be a sequential model. It will start by running the Convolutional Neural Network base model, then a classification layer.\n",
    "\n",
    "We already have a global average pooling layer since we specified `pooling='max'` in the `covnet_base`. Therefore, now we need to add a classifying layer with the number of classifications we have. In addition, we will be using a *softmax* activation function.\n",
    "\n",
    "We will create the model in a function in order to avoid writing the code again whenever necessary."
   ]
  },
  {
   "cell_type": "code",
   "execution_count": 24,
   "metadata": {},
   "outputs": [],
   "source": [
    "def make_model():\n",
    "    model = tf.keras.Sequential()\n",
    "\n",
    "    model.add(covnet_base)\n",
    "    \n",
    "    classification_layer = tf.keras.layers.Dense(num_unique_pids,\n",
    "                                                activation='softmax')\n",
    "    model.add(classification_layer)\n",
    "    \n",
    "    compile_model(model)\n",
    "    \n",
    "    return model\n",
    "    \n",
    "def compile_model(model, learning_rate=0.00001):\n",
    "    model.compile(optimizer=tf.keras.optimizers.Adam(learning_rate=learning_rate, clipnorm=1.),\n",
    "                              loss='sparse_categorical_crossentropy', metrics=['accuracy'])"
   ]
  },
  {
   "cell_type": "markdown",
   "metadata": {},
   "source": [
    "Now that we have the layers we want on the model, let us take a look at it."
   ]
  },
  {
   "cell_type": "code",
   "execution_count": 25,
   "metadata": {},
   "outputs": [
    {
     "name": "stdout",
     "output_type": "stream",
     "text": [
      "Model: \"sequential\"\n",
      "_________________________________________________________________\n",
      "Layer (type)                 Output Shape              Param #   \n",
      "=================================================================\n",
      "vgg16 (Model)                (None, 512)               14714688  \n",
      "_________________________________________________________________\n",
      "dense (Dense)                (None, 1680)              861840    \n",
      "=================================================================\n",
      "Total params: 15,576,528\n",
      "Trainable params: 13,841,040\n",
      "Non-trainable params: 1,735,488\n",
      "_________________________________________________________________\n"
     ]
    }
   ],
   "source": [
    "model = make_model()\n",
    "\n",
    "model.summary()"
   ]
  },
  {
   "cell_type": "markdown",
   "metadata": {},
   "source": [
    "### Fine Tuning"
   ]
  },
  {
   "cell_type": "markdown",
   "metadata": {},
   "source": [
    "Before fitting our model, we need to define a callback `EarlyStopping` in order to avoid overfitting our data.\n",
    "\n",
    "This callback will monitor the *validation loss* for when it stops going down, but starts increasing instead. Once that happens, the model will stop training."
   ]
  },
  {
   "cell_type": "code",
   "execution_count": 26,
   "metadata": {},
   "outputs": [],
   "source": [
    "early_stopping = tf.keras.callbacks.EarlyStopping(monitor='val_loss', patience=3)"
   ]
  },
  {
   "cell_type": "markdown",
   "metadata": {},
   "source": [
    "In addition, we will need to add another callback which is `ModelCheckpoint`. This will help us save the best performing model before the early stopping. Instead of getting the model with the early stopping the third epoch after the local minimum, we would get the model at the local minimum."
   ]
  },
  {
   "cell_type": "code",
   "execution_count": 27,
   "metadata": {},
   "outputs": [
    {
     "name": "stdout",
     "output_type": "stream",
     "text": [
      "WARNING:tensorflow:`period` argument is deprecated. Please use `save_freq` to specify the frequency in number of samples seen.\n"
     ]
    }
   ],
   "source": [
    "checkpoint = tf.keras.callbacks.ModelCheckpoint(\"checkpoint.h5\", monitor='val_accuracy', \n",
    "                                                    verbose=1, save_best_only=True, period=1,\n",
    "                                                        save_weights_only=False, mode='auto')"
   ]
  },
  {
   "cell_type": "markdown",
   "metadata": {},
   "source": [
    "Similarly to earlier, we will be needing to fit the model with the *training* `Dataset` and evaluate it using the *validation* `Dataset`. The training will update the *weights* in order to achieve a better performing model."
   ]
  },
  {
   "cell_type": "code",
   "execution_count": 28,
   "metadata": {
    "scrolled": false
   },
   "outputs": [
    {
     "name": "stdout",
     "output_type": "stream",
     "text": [
      "WARNING:tensorflow:sample_weight modes were coerced from\n",
      "  ...\n",
      "    to  \n",
      "  ['...']\n",
      "WARNING:tensorflow:sample_weight modes were coerced from\n",
      "  ...\n",
      "    to  \n",
      "  ['...']\n",
      "Train for 917 steps, validate for 230 steps\n",
      "Epoch 1/10\n",
      "  1/917 [..............................] - ETA: 7:05WARNING:tensorflow:Can save best model only with val_accuracy available, skipping.\n",
      "WARNING:tensorflow:Early stopping conditioned on metric `val_loss` which is not available. Available metrics are: \n"
     ]
    },
    {
     "ename": "InvalidArgumentError",
     "evalue": " Can not squeeze dim[1], expected a dimension of 1, got 1680\n\t [[{{node metrics/accuracy/ArithmeticOptimizer/ReorderCastLikeAndValuePreserving_bool_Squeeze}}]] [Op:__inference_distributed_function_1661]\n\nFunction call stack:\ndistributed_function\n",
     "output_type": "error",
     "traceback": [
      "\u001b[0;31m---------------------------------------------------------------------------\u001b[0m",
      "\u001b[0;31mInvalidArgumentError\u001b[0m                      Traceback (most recent call last)",
      "\u001b[0;32m<ipython-input-28-652151cf9586>\u001b[0m in \u001b[0;36m<module>\u001b[0;34m\u001b[0m\n\u001b[1;32m      3\u001b[0m fine_tune_history = model.fit(train_generator, epochs=fine_tune_epochs,\n\u001b[1;32m      4\u001b[0m                         \u001b[0mvalidation_data\u001b[0m\u001b[0;34m=\u001b[0m\u001b[0mvalid_generator\u001b[0m\u001b[0;34m,\u001b[0m \u001b[0mshuffle\u001b[0m\u001b[0;34m=\u001b[0m\u001b[0;32mTrue\u001b[0m\u001b[0;34m,\u001b[0m\u001b[0;34m\u001b[0m\u001b[0;34m\u001b[0m\u001b[0m\n\u001b[0;32m----> 5\u001b[0;31m                            callbacks=[checkpoint, early_stopping])\n\u001b[0m",
      "\u001b[0;32m~/Documents/Learning/Machine Learning/oracle/.venv/lib/python3.6/site-packages/tensorflow_core/python/keras/engine/training.py\u001b[0m in \u001b[0;36mfit\u001b[0;34m(self, x, y, batch_size, epochs, verbose, callbacks, validation_split, validation_data, shuffle, class_weight, sample_weight, initial_epoch, steps_per_epoch, validation_steps, validation_freq, max_queue_size, workers, use_multiprocessing, **kwargs)\u001b[0m\n\u001b[1;32m    817\u001b[0m         \u001b[0mmax_queue_size\u001b[0m\u001b[0;34m=\u001b[0m\u001b[0mmax_queue_size\u001b[0m\u001b[0;34m,\u001b[0m\u001b[0;34m\u001b[0m\u001b[0;34m\u001b[0m\u001b[0m\n\u001b[1;32m    818\u001b[0m         \u001b[0mworkers\u001b[0m\u001b[0;34m=\u001b[0m\u001b[0mworkers\u001b[0m\u001b[0;34m,\u001b[0m\u001b[0;34m\u001b[0m\u001b[0;34m\u001b[0m\u001b[0m\n\u001b[0;32m--> 819\u001b[0;31m         use_multiprocessing=use_multiprocessing)\n\u001b[0m\u001b[1;32m    820\u001b[0m \u001b[0;34m\u001b[0m\u001b[0m\n\u001b[1;32m    821\u001b[0m   def evaluate(self,\n",
      "\u001b[0;32m~/Documents/Learning/Machine Learning/oracle/.venv/lib/python3.6/site-packages/tensorflow_core/python/keras/engine/training_v2.py\u001b[0m in \u001b[0;36mfit\u001b[0;34m(self, model, x, y, batch_size, epochs, verbose, callbacks, validation_split, validation_data, shuffle, class_weight, sample_weight, initial_epoch, steps_per_epoch, validation_steps, validation_freq, max_queue_size, workers, use_multiprocessing, **kwargs)\u001b[0m\n\u001b[1;32m    340\u001b[0m                 \u001b[0mmode\u001b[0m\u001b[0;34m=\u001b[0m\u001b[0mModeKeys\u001b[0m\u001b[0;34m.\u001b[0m\u001b[0mTRAIN\u001b[0m\u001b[0;34m,\u001b[0m\u001b[0;34m\u001b[0m\u001b[0;34m\u001b[0m\u001b[0m\n\u001b[1;32m    341\u001b[0m                 \u001b[0mtraining_context\u001b[0m\u001b[0;34m=\u001b[0m\u001b[0mtraining_context\u001b[0m\u001b[0;34m,\u001b[0m\u001b[0;34m\u001b[0m\u001b[0;34m\u001b[0m\u001b[0m\n\u001b[0;32m--> 342\u001b[0;31m                 total_epochs=epochs)\n\u001b[0m\u001b[1;32m    343\u001b[0m             \u001b[0mcbks\u001b[0m\u001b[0;34m.\u001b[0m\u001b[0mmake_logs\u001b[0m\u001b[0;34m(\u001b[0m\u001b[0mmodel\u001b[0m\u001b[0;34m,\u001b[0m \u001b[0mepoch_logs\u001b[0m\u001b[0;34m,\u001b[0m \u001b[0mtraining_result\u001b[0m\u001b[0;34m,\u001b[0m \u001b[0mModeKeys\u001b[0m\u001b[0;34m.\u001b[0m\u001b[0mTRAIN\u001b[0m\u001b[0;34m)\u001b[0m\u001b[0;34m\u001b[0m\u001b[0;34m\u001b[0m\u001b[0m\n\u001b[1;32m    344\u001b[0m \u001b[0;34m\u001b[0m\u001b[0m\n",
      "\u001b[0;32m~/Documents/Learning/Machine Learning/oracle/.venv/lib/python3.6/site-packages/tensorflow_core/python/keras/engine/training_v2.py\u001b[0m in \u001b[0;36mrun_one_epoch\u001b[0;34m(model, iterator, execution_function, dataset_size, batch_size, strategy, steps_per_epoch, num_samples, mode, training_context, total_epochs)\u001b[0m\n\u001b[1;32m    126\u001b[0m         step=step, mode=mode, size=current_batch_size) as batch_logs:\n\u001b[1;32m    127\u001b[0m       \u001b[0;32mtry\u001b[0m\u001b[0;34m:\u001b[0m\u001b[0;34m\u001b[0m\u001b[0;34m\u001b[0m\u001b[0m\n\u001b[0;32m--> 128\u001b[0;31m         \u001b[0mbatch_outs\u001b[0m \u001b[0;34m=\u001b[0m \u001b[0mexecution_function\u001b[0m\u001b[0;34m(\u001b[0m\u001b[0miterator\u001b[0m\u001b[0;34m)\u001b[0m\u001b[0;34m\u001b[0m\u001b[0;34m\u001b[0m\u001b[0m\n\u001b[0m\u001b[1;32m    129\u001b[0m       \u001b[0;32mexcept\u001b[0m \u001b[0;34m(\u001b[0m\u001b[0mStopIteration\u001b[0m\u001b[0;34m,\u001b[0m \u001b[0merrors\u001b[0m\u001b[0;34m.\u001b[0m\u001b[0mOutOfRangeError\u001b[0m\u001b[0;34m)\u001b[0m\u001b[0;34m:\u001b[0m\u001b[0;34m\u001b[0m\u001b[0;34m\u001b[0m\u001b[0m\n\u001b[1;32m    130\u001b[0m         \u001b[0;31m# TODO(kaftan): File bug about tf function and errors.OutOfRangeError?\u001b[0m\u001b[0;34m\u001b[0m\u001b[0;34m\u001b[0m\u001b[0;34m\u001b[0m\u001b[0m\n",
      "\u001b[0;32m~/Documents/Learning/Machine Learning/oracle/.venv/lib/python3.6/site-packages/tensorflow_core/python/keras/engine/training_v2_utils.py\u001b[0m in \u001b[0;36mexecution_function\u001b[0;34m(input_fn)\u001b[0m\n\u001b[1;32m     96\u001b[0m     \u001b[0;31m# `numpy` translates Tensors to values in Eager mode.\u001b[0m\u001b[0;34m\u001b[0m\u001b[0;34m\u001b[0m\u001b[0;34m\u001b[0m\u001b[0m\n\u001b[1;32m     97\u001b[0m     return nest.map_structure(_non_none_constant_value,\n\u001b[0;32m---> 98\u001b[0;31m                               distributed_function(input_fn))\n\u001b[0m\u001b[1;32m     99\u001b[0m \u001b[0;34m\u001b[0m\u001b[0m\n\u001b[1;32m    100\u001b[0m   \u001b[0;32mreturn\u001b[0m \u001b[0mexecution_function\u001b[0m\u001b[0;34m\u001b[0m\u001b[0;34m\u001b[0m\u001b[0m\n",
      "\u001b[0;32m~/Documents/Learning/Machine Learning/oracle/.venv/lib/python3.6/site-packages/tensorflow_core/python/eager/def_function.py\u001b[0m in \u001b[0;36m__call__\u001b[0;34m(self, *args, **kwds)\u001b[0m\n\u001b[1;32m    566\u001b[0m         \u001b[0mxla_context\u001b[0m\u001b[0;34m.\u001b[0m\u001b[0mExit\u001b[0m\u001b[0;34m(\u001b[0m\u001b[0;34m)\u001b[0m\u001b[0;34m\u001b[0m\u001b[0;34m\u001b[0m\u001b[0m\n\u001b[1;32m    567\u001b[0m     \u001b[0;32melse\u001b[0m\u001b[0;34m:\u001b[0m\u001b[0;34m\u001b[0m\u001b[0;34m\u001b[0m\u001b[0m\n\u001b[0;32m--> 568\u001b[0;31m       \u001b[0mresult\u001b[0m \u001b[0;34m=\u001b[0m \u001b[0mself\u001b[0m\u001b[0;34m.\u001b[0m\u001b[0m_call\u001b[0m\u001b[0;34m(\u001b[0m\u001b[0;34m*\u001b[0m\u001b[0margs\u001b[0m\u001b[0;34m,\u001b[0m \u001b[0;34m**\u001b[0m\u001b[0mkwds\u001b[0m\u001b[0;34m)\u001b[0m\u001b[0;34m\u001b[0m\u001b[0;34m\u001b[0m\u001b[0m\n\u001b[0m\u001b[1;32m    569\u001b[0m \u001b[0;34m\u001b[0m\u001b[0m\n\u001b[1;32m    570\u001b[0m     \u001b[0;32mif\u001b[0m \u001b[0mtracing_count\u001b[0m \u001b[0;34m==\u001b[0m \u001b[0mself\u001b[0m\u001b[0;34m.\u001b[0m\u001b[0m_get_tracing_count\u001b[0m\u001b[0;34m(\u001b[0m\u001b[0;34m)\u001b[0m\u001b[0;34m:\u001b[0m\u001b[0;34m\u001b[0m\u001b[0;34m\u001b[0m\u001b[0m\n",
      "\u001b[0;32m~/Documents/Learning/Machine Learning/oracle/.venv/lib/python3.6/site-packages/tensorflow_core/python/eager/def_function.py\u001b[0m in \u001b[0;36m_call\u001b[0;34m(self, *args, **kwds)\u001b[0m\n\u001b[1;32m    630\u001b[0m         \u001b[0;31m# Lifting succeeded, so variables are initialized and we can run the\u001b[0m\u001b[0;34m\u001b[0m\u001b[0;34m\u001b[0m\u001b[0;34m\u001b[0m\u001b[0m\n\u001b[1;32m    631\u001b[0m         \u001b[0;31m# stateless function.\u001b[0m\u001b[0;34m\u001b[0m\u001b[0;34m\u001b[0m\u001b[0;34m\u001b[0m\u001b[0m\n\u001b[0;32m--> 632\u001b[0;31m         \u001b[0;32mreturn\u001b[0m \u001b[0mself\u001b[0m\u001b[0;34m.\u001b[0m\u001b[0m_stateless_fn\u001b[0m\u001b[0;34m(\u001b[0m\u001b[0;34m*\u001b[0m\u001b[0margs\u001b[0m\u001b[0;34m,\u001b[0m \u001b[0;34m**\u001b[0m\u001b[0mkwds\u001b[0m\u001b[0;34m)\u001b[0m\u001b[0;34m\u001b[0m\u001b[0;34m\u001b[0m\u001b[0m\n\u001b[0m\u001b[1;32m    633\u001b[0m     \u001b[0;32melse\u001b[0m\u001b[0;34m:\u001b[0m\u001b[0;34m\u001b[0m\u001b[0;34m\u001b[0m\u001b[0m\n\u001b[1;32m    634\u001b[0m       \u001b[0mcanon_args\u001b[0m\u001b[0;34m,\u001b[0m \u001b[0mcanon_kwds\u001b[0m \u001b[0;34m=\u001b[0m\u001b[0;31m \u001b[0m\u001b[0;31m\\\u001b[0m\u001b[0;34m\u001b[0m\u001b[0;34m\u001b[0m\u001b[0m\n",
      "\u001b[0;32m~/Documents/Learning/Machine Learning/oracle/.venv/lib/python3.6/site-packages/tensorflow_core/python/eager/function.py\u001b[0m in \u001b[0;36m__call__\u001b[0;34m(self, *args, **kwargs)\u001b[0m\n\u001b[1;32m   2361\u001b[0m     \u001b[0;32mwith\u001b[0m \u001b[0mself\u001b[0m\u001b[0;34m.\u001b[0m\u001b[0m_lock\u001b[0m\u001b[0;34m:\u001b[0m\u001b[0;34m\u001b[0m\u001b[0;34m\u001b[0m\u001b[0m\n\u001b[1;32m   2362\u001b[0m       \u001b[0mgraph_function\u001b[0m\u001b[0;34m,\u001b[0m \u001b[0margs\u001b[0m\u001b[0;34m,\u001b[0m \u001b[0mkwargs\u001b[0m \u001b[0;34m=\u001b[0m \u001b[0mself\u001b[0m\u001b[0;34m.\u001b[0m\u001b[0m_maybe_define_function\u001b[0m\u001b[0;34m(\u001b[0m\u001b[0margs\u001b[0m\u001b[0;34m,\u001b[0m \u001b[0mkwargs\u001b[0m\u001b[0;34m)\u001b[0m\u001b[0;34m\u001b[0m\u001b[0;34m\u001b[0m\u001b[0m\n\u001b[0;32m-> 2363\u001b[0;31m     \u001b[0;32mreturn\u001b[0m \u001b[0mgraph_function\u001b[0m\u001b[0;34m.\u001b[0m\u001b[0m_filtered_call\u001b[0m\u001b[0;34m(\u001b[0m\u001b[0margs\u001b[0m\u001b[0;34m,\u001b[0m \u001b[0mkwargs\u001b[0m\u001b[0;34m)\u001b[0m  \u001b[0;31m# pylint: disable=protected-access\u001b[0m\u001b[0;34m\u001b[0m\u001b[0;34m\u001b[0m\u001b[0m\n\u001b[0m\u001b[1;32m   2364\u001b[0m \u001b[0;34m\u001b[0m\u001b[0m\n\u001b[1;32m   2365\u001b[0m   \u001b[0;34m@\u001b[0m\u001b[0mproperty\u001b[0m\u001b[0;34m\u001b[0m\u001b[0;34m\u001b[0m\u001b[0m\n",
      "\u001b[0;32m~/Documents/Learning/Machine Learning/oracle/.venv/lib/python3.6/site-packages/tensorflow_core/python/eager/function.py\u001b[0m in \u001b[0;36m_filtered_call\u001b[0;34m(self, args, kwargs)\u001b[0m\n\u001b[1;32m   1609\u001b[0m          if isinstance(t, (ops.Tensor,\n\u001b[1;32m   1610\u001b[0m                            resource_variable_ops.BaseResourceVariable))),\n\u001b[0;32m-> 1611\u001b[0;31m         self.captured_inputs)\n\u001b[0m\u001b[1;32m   1612\u001b[0m \u001b[0;34m\u001b[0m\u001b[0m\n\u001b[1;32m   1613\u001b[0m   \u001b[0;32mdef\u001b[0m \u001b[0m_call_flat\u001b[0m\u001b[0;34m(\u001b[0m\u001b[0mself\u001b[0m\u001b[0;34m,\u001b[0m \u001b[0margs\u001b[0m\u001b[0;34m,\u001b[0m \u001b[0mcaptured_inputs\u001b[0m\u001b[0;34m,\u001b[0m \u001b[0mcancellation_manager\u001b[0m\u001b[0;34m=\u001b[0m\u001b[0;32mNone\u001b[0m\u001b[0;34m)\u001b[0m\u001b[0;34m:\u001b[0m\u001b[0;34m\u001b[0m\u001b[0;34m\u001b[0m\u001b[0m\n",
      "\u001b[0;32m~/Documents/Learning/Machine Learning/oracle/.venv/lib/python3.6/site-packages/tensorflow_core/python/eager/function.py\u001b[0m in \u001b[0;36m_call_flat\u001b[0;34m(self, args, captured_inputs, cancellation_manager)\u001b[0m\n\u001b[1;32m   1690\u001b[0m       \u001b[0;31m# No tape is watching; skip to running the function.\u001b[0m\u001b[0;34m\u001b[0m\u001b[0;34m\u001b[0m\u001b[0;34m\u001b[0m\u001b[0m\n\u001b[1;32m   1691\u001b[0m       return self._build_call_outputs(self._inference_function.call(\n\u001b[0;32m-> 1692\u001b[0;31m           ctx, args, cancellation_manager=cancellation_manager))\n\u001b[0m\u001b[1;32m   1693\u001b[0m     forward_backward = self._select_forward_and_backward_functions(\n\u001b[1;32m   1694\u001b[0m         \u001b[0margs\u001b[0m\u001b[0;34m,\u001b[0m\u001b[0;34m\u001b[0m\u001b[0;34m\u001b[0m\u001b[0m\n",
      "\u001b[0;32m~/Documents/Learning/Machine Learning/oracle/.venv/lib/python3.6/site-packages/tensorflow_core/python/eager/function.py\u001b[0m in \u001b[0;36mcall\u001b[0;34m(self, ctx, args, cancellation_manager)\u001b[0m\n\u001b[1;32m    543\u001b[0m               \u001b[0minputs\u001b[0m\u001b[0;34m=\u001b[0m\u001b[0margs\u001b[0m\u001b[0;34m,\u001b[0m\u001b[0;34m\u001b[0m\u001b[0;34m\u001b[0m\u001b[0m\n\u001b[1;32m    544\u001b[0m               \u001b[0mattrs\u001b[0m\u001b[0;34m=\u001b[0m\u001b[0;34m(\u001b[0m\u001b[0;34m\"executor_type\"\u001b[0m\u001b[0;34m,\u001b[0m \u001b[0mexecutor_type\u001b[0m\u001b[0;34m,\u001b[0m \u001b[0;34m\"config_proto\"\u001b[0m\u001b[0;34m,\u001b[0m \u001b[0mconfig\u001b[0m\u001b[0;34m)\u001b[0m\u001b[0;34m,\u001b[0m\u001b[0;34m\u001b[0m\u001b[0;34m\u001b[0m\u001b[0m\n\u001b[0;32m--> 545\u001b[0;31m               ctx=ctx)\n\u001b[0m\u001b[1;32m    546\u001b[0m         \u001b[0;32melse\u001b[0m\u001b[0;34m:\u001b[0m\u001b[0;34m\u001b[0m\u001b[0;34m\u001b[0m\u001b[0m\n\u001b[1;32m    547\u001b[0m           outputs = execute.execute_with_cancellation(\n",
      "\u001b[0;32m~/Documents/Learning/Machine Learning/oracle/.venv/lib/python3.6/site-packages/tensorflow_core/python/eager/execute.py\u001b[0m in \u001b[0;36mquick_execute\u001b[0;34m(op_name, num_outputs, inputs, attrs, ctx, name)\u001b[0m\n\u001b[1;32m     65\u001b[0m     \u001b[0;32melse\u001b[0m\u001b[0;34m:\u001b[0m\u001b[0;34m\u001b[0m\u001b[0;34m\u001b[0m\u001b[0m\n\u001b[1;32m     66\u001b[0m       \u001b[0mmessage\u001b[0m \u001b[0;34m=\u001b[0m \u001b[0me\u001b[0m\u001b[0;34m.\u001b[0m\u001b[0mmessage\u001b[0m\u001b[0;34m\u001b[0m\u001b[0;34m\u001b[0m\u001b[0m\n\u001b[0;32m---> 67\u001b[0;31m     \u001b[0msix\u001b[0m\u001b[0;34m.\u001b[0m\u001b[0mraise_from\u001b[0m\u001b[0;34m(\u001b[0m\u001b[0mcore\u001b[0m\u001b[0;34m.\u001b[0m\u001b[0m_status_to_exception\u001b[0m\u001b[0;34m(\u001b[0m\u001b[0me\u001b[0m\u001b[0;34m.\u001b[0m\u001b[0mcode\u001b[0m\u001b[0;34m,\u001b[0m \u001b[0mmessage\u001b[0m\u001b[0;34m)\u001b[0m\u001b[0;34m,\u001b[0m \u001b[0;32mNone\u001b[0m\u001b[0;34m)\u001b[0m\u001b[0;34m\u001b[0m\u001b[0;34m\u001b[0m\u001b[0m\n\u001b[0m\u001b[1;32m     68\u001b[0m   \u001b[0;32mexcept\u001b[0m \u001b[0mTypeError\u001b[0m \u001b[0;32mas\u001b[0m \u001b[0me\u001b[0m\u001b[0;34m:\u001b[0m\u001b[0;34m\u001b[0m\u001b[0;34m\u001b[0m\u001b[0m\n\u001b[1;32m     69\u001b[0m     keras_symbolic_tensors = [\n",
      "\u001b[0;32m~/Documents/Learning/Machine Learning/oracle/.venv/lib/python3.6/site-packages/six.py\u001b[0m in \u001b[0;36mraise_from\u001b[0;34m(value, from_value)\u001b[0m\n",
      "\u001b[0;31mInvalidArgumentError\u001b[0m:  Can not squeeze dim[1], expected a dimension of 1, got 1680\n\t [[{{node metrics/accuracy/ArithmeticOptimizer/ReorderCastLikeAndValuePreserving_bool_Squeeze}}]] [Op:__inference_distributed_function_1661]\n\nFunction call stack:\ndistributed_function\n"
     ]
    }
   ],
   "source": [
    "fine_tune_epochs = 10\n",
    "\n",
    "fine_tune_history = model.fit(train_generator, epochs=fine_tune_epochs,\n",
    "                        validation_data=valid_generator, shuffle=True,\n",
    "                           callbacks=[checkpoint, early_stopping])"
   ]
  },
  {
   "cell_type": "markdown",
   "metadata": {},
   "source": [
    "Since the training didn't use all the epochs we assigned, we will be updating their values."
   ]
  },
  {
   "cell_type": "code",
   "execution_count": null,
   "metadata": {},
   "outputs": [],
   "source": [
    "# update epochs used due to early stopping\n",
    "fine_tune_epochs = fine_tune_history.epoch[-1]"
   ]
  },
  {
   "cell_type": "markdown",
   "metadata": {},
   "source": [
    "Now we wil be plotting the *training* and *validation* accuracy and loss of the Feature Extraction against the Fine Tuning."
   ]
  },
  {
   "cell_type": "code",
   "execution_count": null,
   "metadata": {},
   "outputs": [],
   "source": [
    "acc = fine_tune_history.history['accuracy']\n",
    "val_acc = fine_tune_history.history['val_accuracy']\n",
    "\n",
    "loss = fine_tune_history.history['loss']\n",
    "val_loss = fine_tune_history.history['val_loss']\n",
    "\n",
    "plt.figure(figsize=(8, 8))\n",
    "plt.subplot(2, 1, 1)\n",
    "plt.plot(acc, label='Training Accuracy')\n",
    "plt.plot(val_acc, label='Validation Accuracy')\n",
    "plt.legend(loc='lower right')\n",
    "plt.ylabel('Accuracy')\n",
    "plt.ylim([min(plt.ylim()),1])\n",
    "plt.title('Training and Validation Accuracy')\n",
    "\n",
    "plt.subplot(2, 1, 2)\n",
    "plt.plot(loss, label='Training Loss')\n",
    "plt.plot(val_loss, label='Validation Loss')\n",
    "plt.legend(loc='upper right')\n",
    "plt.ylabel('Loss')\n",
    "plt.title('Training and Validation Loss')\n",
    "plt.xlabel('epoch')\n",
    "plt.show()"
   ]
  },
  {
   "cell_type": "markdown",
   "metadata": {},
   "source": [
    "### Decreasing Validation Data"
   ]
  },
  {
   "cell_type": "markdown",
   "metadata": {},
   "source": [
    "We can improve our validation accuracy even further by assigning even more data to our training data."
   ]
  },
  {
   "cell_type": "markdown",
   "metadata": {},
   "source": [
    "Since our dataset is already small and most people don't have enough images of themselves, let us check how many elements are taken by the *validation* set."
   ]
  },
  {
   "cell_type": "code",
   "execution_count": null,
   "metadata": {},
   "outputs": [],
   "source": [
    "y_valid.shape"
   ]
  },
  {
   "cell_type": "markdown",
   "metadata": {},
   "source": [
    "Out of 1680 unique people, our *validation* dataset contains 1833 people. However, those extra 153 extra images might be somewhat useful in our *train* dataset."
   ]
  },
  {
   "cell_type": "code",
   "execution_count": null,
   "metadata": {},
   "outputs": [],
   "source": [
    "X_train, X_valid, y_train, y_valid = train_test_split(X, y, test_size=1680, random_state=42, stratify=y)\n",
    "\n",
    "print(\"Missing PIDs from Training Data :\", len(missing_pids(y_train, y_valid)))\n",
    "print(\"Size of Validation Data :\", y_valid.shape)"
   ]
  },
  {
   "cell_type": "markdown",
   "metadata": {},
   "source": [
    "Now that we have a smaller validation set, yet stratified, we need to update our validation and training data."
   ]
  },
  {
   "cell_type": "code",
   "execution_count": null,
   "metadata": {},
   "outputs": [],
   "source": [
    "train_generator = train_datagen.flow(getImageData(X_train), y=getImageLabels(y_train),\n",
    "                                        batch_size=batch_size, shuffle=True)\n",
    "valid_generator = valid_datagen.flow(getImageData(X_valid), y=getImageLabels(y_valid),\n",
    "                                        batch_size=batch_size, shuffle=True)"
   ]
  },
  {
   "cell_type": "markdown",
   "metadata": {},
   "source": [
    "We need to first load the model from our last checkpoint."
   ]
  },
  {
   "cell_type": "code",
   "execution_count": null,
   "metadata": {},
   "outputs": [],
   "source": [
    "model = tf.keras.models.load_model('checkpoint.h5')"
   ]
  },
  {
   "cell_type": "markdown",
   "metadata": {},
   "source": [
    "We will need to recompile the model and lower its learning rate in order not to affect the weights as much as we did before. Otherwise the model might start overfitting the training data and perform worse on the validation set."
   ]
  },
  {
   "cell_type": "code",
   "execution_count": null,
   "metadata": {},
   "outputs": [],
   "source": [
    "compile_model(model)"
   ]
  },
  {
   "cell_type": "markdown",
   "metadata": {},
   "source": [
    "Now that we have updated our validation and training data, we will retrain the model to see if we will witness any improvement."
   ]
  },
  {
   "cell_type": "code",
   "execution_count": null,
   "metadata": {
    "scrolled": false
   },
   "outputs": [],
   "source": [
    "retrain_epochs = 10\n",
    "total_epochs = fine_tune_epochs + retrain_epochs\n",
    "\n",
    "retrain_history = model.fit(train_generator, epochs=total_epochs,\n",
    "                        validation_data=valid_generator, shuffle=True,\n",
    "                           callbacks=[checkpoint, early_stopping],\n",
    "                            initial_epoch=fine_tune_history.epoch[-1])"
   ]
  },
  {
   "cell_type": "markdown",
   "metadata": {},
   "source": [
    "Since the training didn't use all the epochs we assigned, we will be updating their values."
   ]
  },
  {
   "cell_type": "code",
   "execution_count": null,
   "metadata": {},
   "outputs": [],
   "source": [
    "# update epochs used due to early stopping\n",
    "retrain_epochs = retrain_history.epoch[-1]\n",
    "total_epochs = fine_tune_epochs + retrain_epochs"
   ]
  },
  {
   "cell_type": "markdown",
   "metadata": {},
   "source": [
    "As we can see, we had a small increase in our validation accuracy."
   ]
  },
  {
   "cell_type": "code",
   "execution_count": null,
   "metadata": {},
   "outputs": [],
   "source": [
    "acc += retrain_history.history['accuracy']\n",
    "val_acc += retrain_history.history['val_accuracy']\n",
    "\n",
    "loss += retrain_history.history['loss']\n",
    "val_loss += retrain_history.history['val_loss']\n",
    "\n",
    "plt.figure(figsize=(8, 8))\n",
    "plt.subplot(2, 1, 1)\n",
    "plt.plot(acc, label='Training Accuracy')\n",
    "plt.plot(val_acc, label='Validation Accuracy')\n",
    "plt.ylim([min(plt.ylim()),1])\n",
    "plt.plot([fine_tune_epochs + 1,fine_tune_epochs + 1],\n",
    "          plt.ylim(), label='Decrease Validation Data')\n",
    "plt.legend(loc='lower right')\n",
    "plt.title('Training and Validation Accuracy')\n",
    "\n",
    "plt.subplot(2, 1, 2)\n",
    "plt.plot(loss, label='Training Loss')\n",
    "plt.plot(val_loss, label='Validation Loss')\n",
    "plt.plot([fine_tune_epochs + 1,fine_tune_epochs + 1],\n",
    "         plt.ylim(), label='Decrease Validation Data')\n",
    "plt.legend(loc='upper right')\n",
    "plt.title('Training and Validation Loss')\n",
    "plt.xlabel('epoch')\n",
    "plt.show()"
   ]
  },
  {
   "cell_type": "markdown",
   "metadata": {},
   "source": [
    "### Image Augmentation"
   ]
  },
  {
   "cell_type": "markdown",
   "metadata": {},
   "source": [
    "As mentioned earlier, most of the targets we have have only a few images. This resulted in our really low validation accuracy. Therefore, we will go ahead and augment some of the images in order to increase our train dataset."
   ]
  },
  {
   "cell_type": "markdown",
   "metadata": {},
   "source": [
    "We just need to change our training data since the validation data can stay the same."
   ]
  },
  {
   "cell_type": "code",
   "execution_count": null,
   "metadata": {},
   "outputs": [],
   "source": [
    "train_datagen = tf.keras.preprocessing.image.ImageDataGenerator(rescale=1./255,\n",
    "                                                                brightness_range = (0.95,1.05))\n",
    "\n",
    "train_generator = train_datagen.flow(getImageData(X_train), y=getImageLabels(y_train),\n",
    "                                        batch_size=batch_size, shuffle=True)"
   ]
  },
  {
   "cell_type": "markdown",
   "metadata": {},
   "source": [
    "We need to first load the model from our last checkpoint."
   ]
  },
  {
   "cell_type": "code",
   "execution_count": null,
   "metadata": {},
   "outputs": [],
   "source": [
    "model = tf.keras.models.load_model('checkpoint.h5')"
   ]
  },
  {
   "cell_type": "markdown",
   "metadata": {},
   "source": [
    "We will need to recompile the model and lower its learning rate in order not to affect the weights as much as we did before. Otherwise the model might start overfitting the training data and perform worse on the validation set."
   ]
  },
  {
   "cell_type": "code",
   "execution_count": null,
   "metadata": {},
   "outputs": [],
   "source": [
    "model.compile(optimizer=tf.keras.optimizers.Adam(learning_rate=(learning_rate / 10)),\n",
    "                  loss='categorical_crossentropy', metrics=['accuracy'])"
   ]
  },
  {
   "cell_type": "markdown",
   "metadata": {},
   "source": [
    "Now that we have updated our training data, we will retrain the model to see if we will witness any improvement."
   ]
  },
  {
   "cell_type": "code",
   "execution_count": null,
   "metadata": {
    "scrolled": false
   },
   "outputs": [],
   "source": [
    "augmentation_epochs = 10\n",
    "total_epochs = fine_tune_epochs + retrain_epochs + augmentation_epochs\n",
    "\n",
    "augmentation_history = model.fit(train_generator, epochs=total_epochs,\n",
    "                        validation_data=valid_generator, shuffle=True,\n",
    "                           callbacks=[checkpoint, early_stopping],\n",
    "                            initial_epoch=retrain_history.epoch[-1])"
   ]
  },
  {
   "cell_type": "markdown",
   "metadata": {},
   "source": [
    "Since the training didn't use all the epochs we assigned, we will be updating their values."
   ]
  },
  {
   "cell_type": "code",
   "execution_count": null,
   "metadata": {},
   "outputs": [],
   "source": [
    "# update epochs used due to early stopping\n",
    "augmentation_epochs = augmentation_history.epoch[-1]\n",
    "total_epochs = fine_tune_epochs + retrain_epochs + augmentation_epochs"
   ]
  },
  {
   "cell_type": "markdown",
   "metadata": {},
   "source": [
    "As we can see, we had a small increase in our validation accuracy."
   ]
  },
  {
   "cell_type": "code",
   "execution_count": null,
   "metadata": {},
   "outputs": [],
   "source": [
    "acc += augmentation_history.history['accuracy']\n",
    "val_acc += augmentation_history.history['val_accuracy']\n",
    "\n",
    "loss += augmentation_history.history['loss']\n",
    "val_loss += augmentation_history.history['val_loss']\n",
    "\n",
    "plt.figure(figsize=(8, 8))\n",
    "plt.subplot(2, 1, 1)\n",
    "plt.plot(acc, label='Training Accuracy')\n",
    "plt.plot(val_acc, label='Validation Accuracy')\n",
    "plt.ylim([min(plt.ylim()),1])\n",
    "plt.plot([fine_tune_epochs + 1,fine_tune_epochs + 1],\n",
    "          plt.ylim(), label='Decrease Validation Data')\n",
    "plt.plot([retrain_epochs + 1,retrain_epochs + 1],\n",
    "         plt.ylim(), label='Image Augmentation')\n",
    "plt.legend(loc='lower right')\n",
    "plt.title('Training and Validation Accuracy')\n",
    "\n",
    "plt.subplot(2, 1, 2)\n",
    "plt.plot(loss, label='Training Loss')\n",
    "plt.plot(val_loss, label='Validation Loss')\n",
    "plt.plot([fine_tune_epochs + 1,fine_tune_epochs + 1],\n",
    "         plt.ylim(), label='Decrease Validation Data')\n",
    "plt.plot([retrain_epochs + 1,retrain_epochs + 1],\n",
    "         plt.ylim(), label='Image Augmentation')\n",
    "plt.legend(loc='upper right')\n",
    "plt.title('Training and Validation Loss')\n",
    "plt.xlabel('epoch')\n",
    "plt.show()"
   ]
  },
  {
   "cell_type": "markdown",
   "metadata": {},
   "source": [
    "### Saving the Model"
   ]
  },
  {
   "cell_type": "markdown",
   "metadata": {},
   "source": [
    "We will be saving the model in order to use it later. Please note that saving the model will override any previously saved model."
   ]
  },
  {
   "cell_type": "markdown",
   "metadata": {},
   "source": [
    "We need to first load the model from our last checkpoint."
   ]
  },
  {
   "cell_type": "code",
   "execution_count": null,
   "metadata": {},
   "outputs": [],
   "source": [
    "model = tf.keras.models.load_model('checkpoint.h5')"
   ]
  },
  {
   "cell_type": "markdown",
   "metadata": {},
   "source": [
    "Now we can go ahead and save our model."
   ]
  },
  {
   "cell_type": "code",
   "execution_count": null,
   "metadata": {},
   "outputs": [],
   "source": [
    "model.save('oracle.h5')"
   ]
  },
  {
   "cell_type": "markdown",
   "metadata": {},
   "source": [
    "## Loading the Saved Model"
   ]
  },
  {
   "cell_type": "markdown",
   "metadata": {},
   "source": [
    "We will be loading the saved model in order to do necessary tasks later on."
   ]
  },
  {
   "cell_type": "code",
   "execution_count": null,
   "metadata": {},
   "outputs": [],
   "source": [
    "model = tf.keras.models.load_model('oracle.h5')\n",
    "\n",
    "model.summary()"
   ]
  }
 ],
 "metadata": {
  "kernelspec": {
   "display_name": "oracle",
   "language": "python",
   "name": "oracle"
  },
  "language_info": {
   "codemirror_mode": {
    "name": "ipython",
    "version": 3
   },
   "file_extension": ".py",
   "mimetype": "text/x-python",
   "name": "python",
   "nbconvert_exporter": "python",
   "pygments_lexer": "ipython3",
   "version": "3.6.10"
  }
 },
 "nbformat": 4,
 "nbformat_minor": 2
}
